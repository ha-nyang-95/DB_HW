{
 "cells": [
  {
   "cell_type": "markdown",
   "metadata": {},
   "source": [
    "## ws_1_1"
   ]
  },
  {
   "cell_type": "code",
   "execution_count": 1,
   "metadata": {},
   "outputs": [],
   "source": [
    "import warnings\n",
    "warnings.simplefilter(action='ignore', category=FutureWarning) # FutureWarning 제거"
   ]
  },
  {
   "cell_type": "code",
   "execution_count": 5,
   "metadata": {},
   "outputs": [
    {
     "name": "stdout",
     "output_type": "stream",
     "text": [
      "<class 'pandas.core.frame.DataFrame'>\n",
      "RangeIndex: 1000 entries, 0 to 999\n",
      "Data columns (total 5 columns):\n",
      " #   Column           Non-Null Count  Dtype  \n",
      "---  ------           --------------  -----  \n",
      " 0   CustomerID       1000 non-null   int64  \n",
      " 1   Age              900 non-null    float64\n",
      " 2   AnnualIncome     900 non-null    float64\n",
      " 3   SpendingScore    1000 non-null   int64  \n",
      " 4   PurchaseHistory  1000 non-null   int64  \n",
      "dtypes: float64(2), int64(3)\n",
      "memory usage: 39.2 KB\n",
      "None\n"
     ]
    },
    {
     "data": {
      "text/html": [
       "<div>\n",
       "<style scoped>\n",
       "    .dataframe tbody tr th:only-of-type {\n",
       "        vertical-align: middle;\n",
       "    }\n",
       "\n",
       "    .dataframe tbody tr th {\n",
       "        vertical-align: top;\n",
       "    }\n",
       "\n",
       "    .dataframe thead th {\n",
       "        text-align: right;\n",
       "    }\n",
       "</style>\n",
       "<table border=\"1\" class=\"dataframe\">\n",
       "  <thead>\n",
       "    <tr style=\"text-align: right;\">\n",
       "      <th></th>\n",
       "      <th>CustomerID</th>\n",
       "      <th>Age</th>\n",
       "      <th>AnnualIncome</th>\n",
       "      <th>SpendingScore</th>\n",
       "      <th>PurchaseHistory</th>\n",
       "    </tr>\n",
       "  </thead>\n",
       "  <tbody>\n",
       "    <tr>\n",
       "      <th>count</th>\n",
       "      <td>1000.000000</td>\n",
       "      <td>900.000000</td>\n",
       "      <td>900.000000</td>\n",
       "      <td>1000.000000</td>\n",
       "      <td>1000.00000</td>\n",
       "    </tr>\n",
       "    <tr>\n",
       "      <th>mean</th>\n",
       "      <td>500.500000</td>\n",
       "      <td>43.673333</td>\n",
       "      <td>84.434444</td>\n",
       "      <td>49.915000</td>\n",
       "      <td>10.06200</td>\n",
       "    </tr>\n",
       "    <tr>\n",
       "      <th>std</th>\n",
       "      <td>288.819436</td>\n",
       "      <td>15.193815</td>\n",
       "      <td>37.837883</td>\n",
       "      <td>29.368287</td>\n",
       "      <td>5.45985</td>\n",
       "    </tr>\n",
       "    <tr>\n",
       "      <th>min</th>\n",
       "      <td>1.000000</td>\n",
       "      <td>18.000000</td>\n",
       "      <td>20.000000</td>\n",
       "      <td>1.000000</td>\n",
       "      <td>1.00000</td>\n",
       "    </tr>\n",
       "    <tr>\n",
       "      <th>25%</th>\n",
       "      <td>250.750000</td>\n",
       "      <td>31.000000</td>\n",
       "      <td>52.000000</td>\n",
       "      <td>24.000000</td>\n",
       "      <td>5.00000</td>\n",
       "    </tr>\n",
       "    <tr>\n",
       "      <th>50%</th>\n",
       "      <td>500.500000</td>\n",
       "      <td>43.000000</td>\n",
       "      <td>85.500000</td>\n",
       "      <td>49.500000</td>\n",
       "      <td>10.00000</td>\n",
       "    </tr>\n",
       "    <tr>\n",
       "      <th>75%</th>\n",
       "      <td>750.250000</td>\n",
       "      <td>57.000000</td>\n",
       "      <td>117.000000</td>\n",
       "      <td>76.000000</td>\n",
       "      <td>15.00000</td>\n",
       "    </tr>\n",
       "    <tr>\n",
       "      <th>max</th>\n",
       "      <td>1000.000000</td>\n",
       "      <td>69.000000</td>\n",
       "      <td>149.000000</td>\n",
       "      <td>100.000000</td>\n",
       "      <td>19.00000</td>\n",
       "    </tr>\n",
       "  </tbody>\n",
       "</table>\n",
       "</div>"
      ],
      "text/plain": [
       "        CustomerID         Age  AnnualIncome  SpendingScore  PurchaseHistory\n",
       "count  1000.000000  900.000000    900.000000    1000.000000       1000.00000\n",
       "mean    500.500000   43.673333     84.434444      49.915000         10.06200\n",
       "std     288.819436   15.193815     37.837883      29.368287          5.45985\n",
       "min       1.000000   18.000000     20.000000       1.000000          1.00000\n",
       "25%     250.750000   31.000000     52.000000      24.000000          5.00000\n",
       "50%     500.500000   43.000000     85.500000      49.500000         10.00000\n",
       "75%     750.250000   57.000000    117.000000      76.000000         15.00000\n",
       "max    1000.000000   69.000000    149.000000     100.000000         19.00000"
      ]
     },
     "execution_count": 5,
     "metadata": {},
     "output_type": "execute_result"
    }
   ],
   "source": [
    "import pandas as pd\n",
    "import matplotlib.pyplot as plt\n",
    "import seaborn as sns\n",
    "plt.rcParams['font.family'] = 'Malgun Gothic'\n",
    "# ===================== 1. 데이터 로드 =====================\n",
    "# 파일 경로를 지정하고 데이터를 불러온다.\n",
    "file_path = \"customer_data.csv\"  # <빈칸>: 'customer_data.csv' CSV 파일 경로를 입력하세요.\n",
    "customer_data = pd.read_csv(file_path)  # <빈칸>: Pandas의 read_csv() 함수를 사용하여 데이터를 불러오세요.\n",
    "\n",
    "# 데이터 구조 확인\n",
    "print(customer_data.info())  # 데이터프레임의 컬럼 정보, 데이터 타입, 결측치 개수 등을 출력\n",
    "customer_data.describe()  # 수치형 컬럼의 기초 통계 정보(평균, 표준편차, 최소/최대값 등) 확인"
   ]
  },
  {
   "cell_type": "code",
   "execution_count": 6,
   "metadata": {},
   "outputs": [
    {
     "name": "stdout",
     "output_type": "stream",
     "text": [
      "결측치 제거 후 데이터셋 크기: (900, 5)\n"
     ]
    }
   ],
   "source": [
    "# ===================== 2. 결측치 처리 =====================\n",
    "# dropna(): 결측치(NaN)가 포함된 행을 제거하여 데이터 정제\n",
    "customer_data = customer_data.dropna()  # <빈칸>: 결측치를 제거하기 위해 dropna() 함수를 사용하세요.\n",
    "\n",
    "# 결측치 제거 후 데이터 크기 출력\n",
    "print(f\"결측치 제거 후 데이터셋 크기: {customer_data.shape}\")  \n",
    "# shape: (행, 열) 형태의 데이터 크기 출력"
   ]
  },
  {
   "cell_type": "code",
   "execution_count": 7,
   "metadata": {},
   "outputs": [
    {
     "name": "stdout",
     "output_type": "stream",
     "text": [
      "Age 이상치 처리 전후 데이터셋 크기: (900, 5) -> (900, 5)\n",
      "AnnualIncome 이상치 처리 전후 데이터셋 크기: (900, 5) -> (900, 5)\n"
     ]
    }
   ],
   "source": [
    "# ===================== 3. 이상치 탐지 및 처리 =====================\n",
    "# 이상치를 탐지하기 위해 IQR(Interquartile Range, 사분위 범위) 방법 사용\n",
    "for column in ['Age', 'AnnualIncome']:  # 이상치를 탐지할 컬럼 선택\n",
    "    Q1 = customer_data[column].quantile(.25)  # <빈칸>: 해당 컬럼의 1사분위 값(25%)을 quantile()을 사용해 구하세요.\n",
    "    Q3 = customer_data[column].quantile(.75)  # <빈칸>: 해당 컬럼의 3사분위 값(75%)을 quantile()을 사용해 구하세요.\n",
    "    IQR = Q3 - Q1  # 사분위 범위 계산 (IQR = Q3 - Q1)\n",
    "    \n",
    "    # 이상치 경계값 설정\n",
    "    lower_bound = Q1-1.5*IQR # 하한값: Q1 - 1.5 * IQR\n",
    "    upper_bound = Q3+1.5*IQR  # 상한값: Q3 + 1.5 * IQR\n",
    "    \n",
    "    # 기존 데이터 크기 저장\n",
    "    initial_shape = customer_data.shape  \n",
    "    \n",
    "    # 이상치를 제거한 데이터프레임 생성 (lower_bound보다 크거나 upper_bound보다 작은 데이터만 남김)\n",
    "    customer_data = customer_data[(customer_data[column]>=lower_bound) & (customer_data[column]<=upper_bound)]\n",
    "    \n",
    "    # 이상치 처리 전후 데이터 크기 출력\n",
    "    print(f\"{column} 이상치 처리 전후 데이터셋 크기: {initial_shape} -> {customer_data.shape}\")"
   ]
  },
  {
   "cell_type": "code",
   "execution_count": 8,
   "metadata": {},
   "outputs": [
    {
     "data": {
      "image/png": "[encoded data removed]",
      "text/plain": [
       "<Figure size 640x480 with 1 Axes>"
      ]
     },
     "metadata": {},
     "output_type": "display_data"
    }
   ],
   "source": [
    "# ===================== 4. 나이와 연간 소득 간의 관계 시각화 =====================\n",
    "# scatterplot()을 사용하여 'Age'(나이)와 'AnnualIncome'(연간 소득) 간의 관계 시각화\n",
    "sns.scatterplot(x='Age', y='AnnualIncome', data=customer_data)\n",
    "\n",
    "# 그래프 제목 설정\n",
    "plt.title('Age vs Annual Income')\n",
    "\n",
    "# 그래프 출력\n",
    "plt.show()"
   ]
  },
  {
   "cell_type": "markdown",
   "metadata": {},
   "source": [
    "## ws_2_2"
   ]
  },
  {
   "cell_type": "code",
   "execution_count": 10,
   "metadata": {},
   "outputs": [
    {
     "name": "stdout",
     "output_type": "stream",
     "text": [
      "=== 캠페인 데이터 정보 ===\n",
      "<class 'pandas.core.frame.DataFrame'>\n",
      "RangeIndex: 1000 entries, 0 to 999\n",
      "Data columns (total 5 columns):\n",
      " #   Column         Non-Null Count  Dtype\n",
      "---  ------         --------------  -----\n",
      " 0   CampaignID     1000 non-null   int64\n",
      " 1   CustomerID     1000 non-null   int64\n",
      " 2   Participation  1000 non-null   int64\n",
      " 3   Clicks         1000 non-null   int64\n",
      " 4   Revenue        1000 non-null   int64\n",
      "dtypes: int64(5)\n",
      "memory usage: 39.2 KB\n"
     ]
    }
   ],
   "source": [
    "# 필요한 라이브러리 불러오기\n",
    "import pandas as pd\n",
    "\n",
    "# ===================== 1. 데이터 로드 =====================\n",
    "# 캠페인 데이터 파일 경로 설정\n",
    "campaign_file_path = \"campaign_data.csv\"  # <빈칸>:\"campaign_data.csv\" 파일 경로를 입력하세요.\n",
    "\n",
    "# CSV 파일을 데이터프레임으로 로드\n",
    "df_campaign = pd.read_csv(campaign_file_path)  # <빈칸>: Pandas의 read_csv() 함수를 사용하여 데이터를 불러오세요.\n",
    "\n",
    "# ===================== 2. 데이터 확인 =====================\n",
    "# 데이터프레임 기본 정보 출력\n",
    "print(\"=== 캠페인 데이터 정보 ===\")\n",
    "df_campaign.info()  # <빈칸>: 데이터프레임의 구조 및 컬럼 정보 확인\n",
    "\n",
    "#  #   Column         Non-Null Count  Dtype\n",
    "# ---  ------         --------------  -----\n",
    "#  0   CampaignID     1000 non-null   int64\n",
    "#  1   CustomerID     1000 non-null   int64\n",
    "#  2   Participation  1000 non-null   int64\n",
    "#  3   Clicks         1000 non-null   int64\n",
    "#  4   Revenue        1000 non-null   int64"
   ]
  },
  {
   "cell_type": "code",
   "execution_count": 11,
   "metadata": {},
   "outputs": [
    {
     "name": "stdout",
     "output_type": "stream",
     "text": [
      "\n",
      "=== 캠페인 데이터 샘플 ===\n"
     ]
    },
    {
     "data": {
      "text/html": [
       "<div>\n",
       "<style scoped>\n",
       "    .dataframe tbody tr th:only-of-type {\n",
       "        vertical-align: middle;\n",
       "    }\n",
       "\n",
       "    .dataframe tbody tr th {\n",
       "        vertical-align: top;\n",
       "    }\n",
       "\n",
       "    .dataframe thead th {\n",
       "        text-align: right;\n",
       "    }\n",
       "</style>\n",
       "<table border=\"1\" class=\"dataframe\">\n",
       "  <thead>\n",
       "    <tr style=\"text-align: right;\">\n",
       "      <th></th>\n",
       "      <th>CampaignID</th>\n",
       "      <th>CustomerID</th>\n",
       "      <th>Participation</th>\n",
       "      <th>Clicks</th>\n",
       "      <th>Revenue</th>\n",
       "    </tr>\n",
       "  </thead>\n",
       "  <tbody>\n",
       "    <tr>\n",
       "      <th>0</th>\n",
       "      <td>4</td>\n",
       "      <td>1</td>\n",
       "      <td>1</td>\n",
       "      <td>2</td>\n",
       "      <td>548</td>\n",
       "    </tr>\n",
       "    <tr>\n",
       "      <th>1</th>\n",
       "      <td>1</td>\n",
       "      <td>2</td>\n",
       "      <td>1</td>\n",
       "      <td>19</td>\n",
       "      <td>224</td>\n",
       "    </tr>\n",
       "    <tr>\n",
       "      <th>2</th>\n",
       "      <td>5</td>\n",
       "      <td>3</td>\n",
       "      <td>0</td>\n",
       "      <td>0</td>\n",
       "      <td>0</td>\n",
       "    </tr>\n",
       "    <tr>\n",
       "      <th>3</th>\n",
       "      <td>1</td>\n",
       "      <td>4</td>\n",
       "      <td>0</td>\n",
       "      <td>0</td>\n",
       "      <td>0</td>\n",
       "    </tr>\n",
       "    <tr>\n",
       "      <th>4</th>\n",
       "      <td>5</td>\n",
       "      <td>5</td>\n",
       "      <td>0</td>\n",
       "      <td>0</td>\n",
       "      <td>0</td>\n",
       "    </tr>\n",
       "  </tbody>\n",
       "</table>\n",
       "</div>"
      ],
      "text/plain": [
       "   CampaignID  CustomerID  Participation  Clicks  Revenue\n",
       "0           4           1              1       2      548\n",
       "1           1           2              1      19      224\n",
       "2           5           3              0       0        0\n",
       "3           1           4              0       0        0\n",
       "4           5           5              0       0        0"
      ]
     },
     "execution_count": 11,
     "metadata": {},
     "output_type": "execute_result"
    }
   ],
   "source": [
    "# 데이터의 상위 5개 행 출력\n",
    "print(\"\\n=== 캠페인 데이터 샘플 ===\")\n",
    "df_campaign.head()  # <빈칸>: 데이터의 상위 5개 행을 출력하여 확인"
   ]
  },
  {
   "cell_type": "code",
   "execution_count": 12,
   "metadata": {},
   "outputs": [
    {
     "name": "stdout",
     "output_type": "stream",
     "text": [
      "\n",
      "=== 결측치 개수 확인 ===\n",
      "CampaignID       0\n",
      "CustomerID       0\n",
      "Participation    0\n",
      "Clicks           0\n",
      "Revenue          0\n",
      "dtype: int64\n"
     ]
    }
   ],
   "source": [
    "# ===================== 3. 결측치 처리 =====================\n",
    "# 각 컬럼별 결측치 개수 확인\n",
    "print(\"\\n=== 결측치 개수 확인 ===\")\n",
    "print(df_campaign.isna().sum())  # <빈칸>: 각 컬럼별 결측치 개수를 확인하는 코드 작성\n",
    "\n",
    "# 결측치가 있는 경우 제거\n",
    "df_campaign =df_campaign.dropna()  # <빈칸>: dropna()를 사용하여 결측치를 제거하세요."
   ]
  },
  {
   "cell_type": "code",
   "execution_count": 13,
   "metadata": {},
   "outputs": [
    {
     "name": "stdout",
     "output_type": "stream",
     "text": [
      "\n",
      "=== 캠페인 참여율 분석 ===\n",
      "전체 고객 수: 1000명\n",
      "(1000, 5)\n",
      "(474, 5)\n",
      "캠페인 참여 고객 수: 474명\n",
      "캠페인 참여율: 47.40%\n"
     ]
    }
   ],
   "source": [
    "# ===================== 4. 캠페인 참여율 분석 =====================\n",
    "# 전체 캠페인 고객 수 계산\n",
    "total_customers = df_campaign['CustomerID'].count()  # <빈칸>: 데이터셋의 전체 행 개수(고객 수)를 가져오세요.\n",
    "# 또는 df_campaign.shape[0]를 써도 무방합니다. \n",
    "\n",
    "# 캠페인 참여 고객 수 계산\n",
    "participating_customers = df_campaign[df_campaign[\"Participation\"] == 1].shape[0]  # <빈칸>: Participation이 1인 행 개수를 계산하세요.\n",
    "\n",
    "# 캠페인 참여율 계산\n",
    "participation_rate = (participating_customers / total_customers) * 100  # 백분율 변환\n",
    "\n",
    "# 캠페인 참여율 출력\n",
    "print(\"\\n=== 캠페인 참여율 분석 ===\")\n",
    "print(f\"전체 고객 수: {total_customers}명\")\n",
    "print(df_campaign.shape)\n",
    "print(df_campaign[df_campaign[\"Participation\"] == 1].shape)\n",
    "print(f\"캠페인 참여 고객 수: {participating_customers}명\")\n",
    "print(f\"캠페인 참여율: {participation_rate:.2f}%\")  # <빈칸>: 캠페인 참여율 변수를 입력하세요."
   ]
  },
  {
   "cell_type": "code",
   "execution_count": 14,
   "metadata": {},
   "outputs": [
    {
     "name": "stdout",
     "output_type": "stream",
     "text": [
      "\n",
      "=== 캠페인 참여 여부에 따른 평균 매출 비교 ===\n",
      "캠페인 참여 고객 평균 매출: 553.61\n",
      "캠페인 비참여 고객 평균 매출: 0.00\n"
     ]
    }
   ],
   "source": [
    "# ===================== 5. 캠페인 참여 여부에 따른 매출 비교 =====================\n",
    "# 캠페인 참여 고객과 비참여 고객의 평균 매출 계산\n",
    "avg_revenue_participation = df_campaign[df_campaign[\"Participation\"] == 1][\"Revenue\"].mean()  # <빈칸>: 평균(mean)을 계산하세요.\n",
    "avg_revenue_non_participation = df_campaign[df_campaign[\"Participation\"] == 0][\"Revenue\"].mean()  # <빈칸>: 평균(mean)을 계산하세요.\n",
    "\n",
    "# 평균 매출 비교 출력\n",
    "print(\"\\n=== 캠페인 참여 여부에 따른 평균 매출 비교 ===\")\n",
    "print(f\"캠페인 참여 고객 평균 매출: {avg_revenue_participation:.2f}\")\n",
    "print(f\"캠페인 비참여 고객 평균 매출: {avg_revenue_non_participation:.2f}\")"
   ]
  },
  {
   "cell_type": "code",
   "execution_count": 15,
   "metadata": {},
   "outputs": [
    {
     "name": "stdout",
     "output_type": "stream",
     "text": [
      "\n",
      "=== 캠페인별 평균 매출 분석 ===\n",
      "   CampaignID  AvgRevenue\n",
      "0           1  242.723404\n",
      "1           2  272.314286\n",
      "2           3  279.441624\n",
      "3           4  257.236111\n",
      "4           5  259.164021\n"
     ]
    }
   ],
   "source": [
    "# ===================== 6. 캠페인별 평균 매출 분석 =====================\n",
    "# 각 캠페인별 평균 매출 계산\n",
    "df_campaign_revenue = df_campaign.groupby(\"CampaignID\")[\"Revenue\"].mean().reset_index()  # <빈칸>: CampaignID 기준으로 그룹화하여 평균 매출을 계산하세요.\n",
    "\n",
    "# 컬럼명 변경 (캠페인별 평균 매출)\n",
    "df_campaign_revenue.rename(columns={\"Revenue\": \"AvgRevenue\"}, inplace=True)\n",
    "\n",
    "# 캠페인별 평균 매출 출력\n",
    "print(\"\\n=== 캠페인별 평균 매출 분석 ===\")\n",
    "print(df_campaign_revenue)"
   ]
  },
  {
   "cell_type": "code",
   "execution_count": 16,
   "metadata": {},
   "outputs": [
    {
     "name": "stdout",
     "output_type": "stream",
     "text": [
      "\n",
      "=== 캠페인별 평균 클릭 수 및 매출 분석 ===\n",
      "   CampaignID  AvgClicks  AvgRevenue\n",
      "0           1   4.952128  242.723404\n",
      "1           2   5.228571  272.314286\n",
      "2           3   5.096447  279.441624\n",
      "3           4   5.175926  257.236111\n",
      "4           5   5.047619  259.164021\n"
     ]
    }
   ],
   "source": [
    "# ===================== 7. 캠페인별 클릭 수 및 매출 비교 =====================\n",
    "# 각 캠페인별 평균 클릭 수 및 평균 매출 계산\n",
    "df_campaign_clicks_revenue = df_campaign.groupby(\"CampaignID\")[[\"Clicks\", \"Revenue\"]].mean().reset_index()  # <빈칸>: CampaignID 기준으로 그룹화하여 평균 클릭 수와 매출을 계산하세요.\n",
    "\n",
    "# 컬럼명 변경 (캠페인별 평균 클릭 수 및 매출)\n",
    "df_campaign_clicks_revenue.rename(columns={\"Clicks\": \"AvgClicks\", \"Revenue\": \"AvgRevenue\"}, inplace=True)\n",
    "\n",
    "# 캠페인별 평균 클릭 수 및 매출 출력\n",
    "print(\"\\n=== 캠페인별 평균 클릭 수 및 매출 분석 ===\")\n",
    "print(df_campaign_clicks_revenue)\n",
    "\n",
    "# print(df_campaign.groupby('CampaignID').mean())"
   ]
  },
  {
   "cell_type": "markdown",
   "metadata": {},
   "source": [
    "## ws_2_3"
   ]
  },
  {
   "cell_type": "code",
   "execution_count": 17,
   "metadata": {},
   "outputs": [
    {
     "name": "stdout",
     "output_type": "stream",
     "text": [
      "=== 판매 데이터 정보 ===\n",
      "<class 'pandas.core.frame.DataFrame'>\n",
      "RangeIndex: 1000 entries, 0 to 999\n",
      "Data columns (total 5 columns):\n",
      " #   Column    Non-Null Count  Dtype \n",
      "---  ------    --------------  ----- \n",
      " 0   Region    1000 non-null   object\n",
      " 1   Product   1000 non-null   object\n",
      " 2   Price     1000 non-null   int64 \n",
      " 3   Quantity  1000 non-null   int64 \n",
      " 4   Date      1000 non-null   object\n",
      "dtypes: int64(2), object(3)\n",
      "memory usage: 39.2+ KB\n"
     ]
    }
   ],
   "source": [
    "# 필요한 라이브러리 불러오기\n",
    "import pandas as pd\n",
    "\n",
    "# ===================== 1. 데이터 로드 =====================\n",
    "# 판매 데이터 파일 경로 설정\n",
    "sales_file_path = \"sales_data.csv\"  # <빈칸>: \"sales_data.csv\" CSV 파일 경로를 입력하세요.\n",
    "\n",
    "# CSV 파일을 데이터프레임으로 로드\n",
    "df_sales = pd.read_csv(sales_file_path)  # <빈칸>: Pandas의 read_csv() 함수를 사용하여 데이터를 불러오세요.\n",
    "\n",
    "# ===================== 2. 데이터 확인 =====================\n",
    "# 데이터프레임 기본 정보 출력\n",
    "print(\"=== 판매 데이터 정보 ===\")\n",
    "df_sales.info()  # <빈칸>: 데이터프레임의 구조 및 컬럼 정보 확인"
   ]
  },
  {
   "cell_type": "code",
   "execution_count": 18,
   "metadata": {},
   "outputs": [
    {
     "name": "stdout",
     "output_type": "stream",
     "text": [
      "\n",
      "=== 판매 데이터 샘플 ===\n"
     ]
    },
    {
     "data": {
      "text/html": [
       "<div>\n",
       "<style scoped>\n",
       "    .dataframe tbody tr th:only-of-type {\n",
       "        vertical-align: middle;\n",
       "    }\n",
       "\n",
       "    .dataframe tbody tr th {\n",
       "        vertical-align: top;\n",
       "    }\n",
       "\n",
       "    .dataframe thead th {\n",
       "        text-align: right;\n",
       "    }\n",
       "</style>\n",
       "<table border=\"1\" class=\"dataframe\">\n",
       "  <thead>\n",
       "    <tr style=\"text-align: right;\">\n",
       "      <th></th>\n",
       "      <th>Region</th>\n",
       "      <th>Product</th>\n",
       "      <th>Price</th>\n",
       "      <th>Quantity</th>\n",
       "      <th>Date</th>\n",
       "    </tr>\n",
       "  </thead>\n",
       "  <tbody>\n",
       "    <tr>\n",
       "      <th>0</th>\n",
       "      <td>East</td>\n",
       "      <td>Product B</td>\n",
       "      <td>56</td>\n",
       "      <td>13</td>\n",
       "      <td>2023-01-01</td>\n",
       "    </tr>\n",
       "    <tr>\n",
       "      <th>1</th>\n",
       "      <td>West</td>\n",
       "      <td>Product C</td>\n",
       "      <td>21</td>\n",
       "      <td>2</td>\n",
       "      <td>2023-01-02</td>\n",
       "    </tr>\n",
       "    <tr>\n",
       "      <th>2</th>\n",
       "      <td>North</td>\n",
       "      <td>Product A</td>\n",
       "      <td>71</td>\n",
       "      <td>8</td>\n",
       "      <td>2023-01-03</td>\n",
       "    </tr>\n",
       "    <tr>\n",
       "      <th>3</th>\n",
       "      <td>East</td>\n",
       "      <td>Product A</td>\n",
       "      <td>89</td>\n",
       "      <td>2</td>\n",
       "      <td>2023-01-04</td>\n",
       "    </tr>\n",
       "    <tr>\n",
       "      <th>4</th>\n",
       "      <td>East</td>\n",
       "      <td>Product A</td>\n",
       "      <td>97</td>\n",
       "      <td>4</td>\n",
       "      <td>2023-01-05</td>\n",
       "    </tr>\n",
       "  </tbody>\n",
       "</table>\n",
       "</div>"
      ],
      "text/plain": [
       "  Region    Product  Price  Quantity        Date\n",
       "0   East  Product B     56        13  2023-01-01\n",
       "1   West  Product C     21         2  2023-01-02\n",
       "2  North  Product A     71         8  2023-01-03\n",
       "3   East  Product A     89         2  2023-01-04\n",
       "4   East  Product A     97         4  2023-01-05"
      ]
     },
     "execution_count": 18,
     "metadata": {},
     "output_type": "execute_result"
    }
   ],
   "source": [
    "# 데이터의 상위 5개 행 출력\n",
    "print(\"\\n=== 판매 데이터 샘플 ===\")\n",
    "df_sales.head()  # <빈칸>: 데이터의 상위 5개 행을 출력하여 확인"
   ]
  },
  {
   "cell_type": "code",
   "execution_count": 19,
   "metadata": {},
   "outputs": [
    {
     "name": "stdout",
     "output_type": "stream",
     "text": [
      "\n",
      "=== 결측치 개수 확인 ===\n",
      "Region      0\n",
      "Product     0\n",
      "Price       0\n",
      "Quantity    0\n",
      "Date        0\n",
      "dtype: int64\n"
     ]
    }
   ],
   "source": [
    "# ===================== 3. 결측치 처리 =====================\n",
    "# 각 컬럼별 결측치 개수 확인\n",
    "print(\"\\n=== 결측치 개수 확인 ===\")\n",
    "print(df_sales.isna().sum())  # <빈칸>: 각 컬럼별 결측치 개수를 확인하는 코드 작성\n",
    "\n",
    "# 결측치가 있는 경우 제거\n",
    "df_sales = df_sales.dropna()  # <빈칸>: dropna()를 사용하여 결측치를 제거하세요."
   ]
  },
  {
   "cell_type": "code",
   "execution_count": 20,
   "metadata": {},
   "outputs": [
    {
     "name": "stdout",
     "output_type": "stream",
     "text": [
      "\n",
      "=== 총 매출(TotalSales) 컬럼 추가 후 데이터 확인 ===\n",
      "<class 'pandas.core.frame.DataFrame'>\n",
      "RangeIndex: 1000 entries, 0 to 999\n",
      "Data columns (total 6 columns):\n",
      " #   Column      Non-Null Count  Dtype \n",
      "---  ------      --------------  ----- \n",
      " 0   Region      1000 non-null   object\n",
      " 1   Product     1000 non-null   object\n",
      " 2   Price       1000 non-null   int64 \n",
      " 3   Quantity    1000 non-null   int64 \n",
      " 4   Date        1000 non-null   object\n",
      " 5   TotalSales  1000 non-null   int64 \n",
      "dtypes: int64(3), object(3)\n",
      "memory usage: 47.0+ KB\n"
     ]
    }
   ],
   "source": [
    "# ===================== 4. 총 매출(Total Sales) 컬럼 생성 =====================\n",
    "# 총 매출(TotalSales) = 가격(Price) * 판매량(Quantity)\n",
    "df_sales[\"TotalSales\"] = df_sales[\"Price\"] * df_sales[\"Quantity\"]  # <빈칸>: Price와 Quantity를 곱하여 TotalSales 컬럼 생성\n",
    "\n",
    "# 총 매출 컬럼이 추가된 데이터 확인\n",
    "print(\"\\n=== 총 매출(TotalSales) 컬럼 추가 후 데이터 확인 ===\")\n",
    "df_sales.info()  # <빈칸>: 데이터를 확인하는 코드 작성"
   ]
  },
  {
   "cell_type": "code",
   "execution_count": 22,
   "metadata": {},
   "outputs": [
    {
     "name": "stdout",
     "output_type": "stream",
     "text": [
      "\n",
      "=== 제품별 평균 가격과 평균 판매량 분석 ===\n"
     ]
    },
    {
     "data": {
      "text/html": [
       "<div>\n",
       "<style scoped>\n",
       "    .dataframe tbody tr th:only-of-type {\n",
       "        vertical-align: middle;\n",
       "    }\n",
       "\n",
       "    .dataframe tbody tr th {\n",
       "        vertical-align: top;\n",
       "    }\n",
       "\n",
       "    .dataframe thead th {\n",
       "        text-align: right;\n",
       "    }\n",
       "</style>\n",
       "<table border=\"1\" class=\"dataframe\">\n",
       "  <thead>\n",
       "    <tr style=\"text-align: right;\">\n",
       "      <th></th>\n",
       "      <th>Product</th>\n",
       "      <th>Price</th>\n",
       "      <th>Quantity</th>\n",
       "    </tr>\n",
       "  </thead>\n",
       "  <tbody>\n",
       "    <tr>\n",
       "      <th>0</th>\n",
       "      <td>Product A</td>\n",
       "      <td>56.194757</td>\n",
       "      <td>10.179775</td>\n",
       "    </tr>\n",
       "    <tr>\n",
       "      <th>1</th>\n",
       "      <td>Product B</td>\n",
       "      <td>52.509506</td>\n",
       "      <td>10.102662</td>\n",
       "    </tr>\n",
       "    <tr>\n",
       "      <th>2</th>\n",
       "      <td>Product C</td>\n",
       "      <td>54.069498</td>\n",
       "      <td>9.756757</td>\n",
       "    </tr>\n",
       "    <tr>\n",
       "      <th>3</th>\n",
       "      <td>Product D</td>\n",
       "      <td>52.042654</td>\n",
       "      <td>9.981043</td>\n",
       "    </tr>\n",
       "  </tbody>\n",
       "</table>\n",
       "</div>"
      ],
      "text/plain": [
       "     Product      Price   Quantity\n",
       "0  Product A  56.194757  10.179775\n",
       "1  Product B  52.509506  10.102662\n",
       "2  Product C  54.069498   9.756757\n",
       "3  Product D  52.042654   9.981043"
      ]
     },
     "execution_count": 22,
     "metadata": {},
     "output_type": "execute_result"
    }
   ],
   "source": [
    "# ===================== 5. 제품별 가격과 판매량 분석 =====================\n",
    "# 제품별 평균 가격 계산\n",
    "df_avg_price = df_sales.groupby(\"Product\")[\"Price\"].mean().reset_index()  # <빈칸>: 제품별 평균 가격 계산\n",
    "\n",
    "# 제품별 평균 판매량 계산\n",
    "df_avg_quantity = df_sales.groupby(\"Product\")[\"Quantity\"].mean().reset_index()  # <빈칸>: 제품별 평균 판매량 계산\n",
    "\n",
    "# 제품별 평균 가격과 평균 판매량 데이터 병합\n",
    "df_product_analysis = pd.merge(df_avg_price, df_avg_quantity, on=\"Product\")  # <빈칸>: Product 컬럼을 기준으로 병합\n",
    "\n",
    "# 제품별 평균 가격과 평균 판매량 출력\n",
    "print(\"\\n=== 제품별 평균 가격과 평균 판매량 분석 ===\")\n",
    "df_product_analysis"
   ]
  },
  {
   "cell_type": "code",
   "execution_count": 23,
   "metadata": {},
   "outputs": [
    {
     "name": "stdout",
     "output_type": "stream",
     "text": [
      "\n",
      "=== 가격과 판매량 간의 상관관계 분석 ===\n"
     ]
    },
    {
     "data": {
      "text/html": [
       "<div>\n",
       "<style scoped>\n",
       "    .dataframe tbody tr th:only-of-type {\n",
       "        vertical-align: middle;\n",
       "    }\n",
       "\n",
       "    .dataframe tbody tr th {\n",
       "        vertical-align: top;\n",
       "    }\n",
       "\n",
       "    .dataframe thead th {\n",
       "        text-align: right;\n",
       "    }\n",
       "</style>\n",
       "<table border=\"1\" class=\"dataframe\">\n",
       "  <thead>\n",
       "    <tr style=\"text-align: right;\">\n",
       "      <th></th>\n",
       "      <th>Price</th>\n",
       "      <th>Quantity</th>\n",
       "    </tr>\n",
       "  </thead>\n",
       "  <tbody>\n",
       "    <tr>\n",
       "      <th>Price</th>\n",
       "      <td>1.000000</td>\n",
       "      <td>0.018428</td>\n",
       "    </tr>\n",
       "    <tr>\n",
       "      <th>Quantity</th>\n",
       "      <td>0.018428</td>\n",
       "      <td>1.000000</td>\n",
       "    </tr>\n",
       "  </tbody>\n",
       "</table>\n",
       "</div>"
      ],
      "text/plain": [
       "             Price  Quantity\n",
       "Price     1.000000  0.018428\n",
       "Quantity  0.018428  1.000000"
      ]
     },
     "execution_count": 23,
     "metadata": {},
     "output_type": "execute_result"
    }
   ],
   "source": [
    "# ===================== 6. 가격과 판매량 간의 상관관계 계산 =====================\n",
    "# 전체 데이터에서 가격과 판매량 간의 상관계수 계산\n",
    "correlation = df_sales[[\"Price\", \"Quantity\"]].corr()  # <빈칸>: Price와 Quantity 간의 상관관계 계산\n",
    "\n",
    "# 상관계수 출력\n",
    "print(\"\\n=== 가격과 판매량 간의 상관관계 분석 ===\")\n",
    "correlation"
   ]
  },
  {
   "cell_type": "code",
   "execution_count": 31,
   "metadata": {},
   "outputs": [
    {
     "name": "stdout",
     "output_type": "stream",
     "text": [
      "\n",
      "=== 제품별 가격과 판매량 간의 상관관계 분석 ===\n"
     ]
    },
    {
     "data": {
      "text/plain": [
       "Product\n",
       "Product A   -0.012294\n",
       "Product B    0.034287\n",
       "Product C    0.022198\n",
       "Product D    0.032146\n",
       "Name: (Price, Quantity), dtype: float64"
      ]
     },
     "execution_count": 31,
     "metadata": {},
     "output_type": "execute_result"
    }
   ],
   "source": [
    "# ===================== 7. 제품별 상관관계 분석 =====================\n",
    "# 제품별 가격과 판매량의 상관계수 계산\n",
    "df_product_corr = df_sales.groupby(\"Product\")[[\"Price\", \"Quantity\"]].corr()  # <빈칸>: 제품별 그룹화 후 상관계수 계산\n",
    "\n",
    "# 데이터 변환 과정 설명:\n",
    "# 1. groupby(\"Product\")로 제품별 데이터를 그룹화한 후 Price와 Quantity 간의 상관관계를 계산함\n",
    "# 2. corr() 함수는 기본적으로 두 변수 간의 상관계수를 포함하는 **멀티 인덱스(multi-index) 형태**의 DataFrame을 반환함\n",
    "# 3. unstack()을 사용하면 멀티 인덱스 형태에서 **행을 확장(flatten)하여 단순한 형태의 데이터프레임으로 변환** 가능\n",
    "# 4. unstack() 후, 필요한 상관계수 값을 가져오기 위해 `iloc[:, 1]`을 사용하여 Price와 Quantity 간의 상관계수를 추출\n",
    "\n",
    "df_product_corr = df_product_corr.unstack().iloc[:, 1]  # <빈칸>: unstack()을 활용하여 멀티 인덱스를 해제하고, 필요한 값만 선택\n",
    "\n",
    "# 제품별 가격과 판매량의 상관계수 출력\n",
    "print(\"\\n=== 제품별 가격과 판매량 간의 상관관계 분석 ===\")\n",
    "df_product_corr\n"
   ]
  },
  {
   "cell_type": "markdown",
   "metadata": {},
   "source": [
    "## ws_2_4"
   ]
  },
  {
   "cell_type": "code",
   "execution_count": 32,
   "metadata": {},
   "outputs": [],
   "source": [
    "# 필요한 라이브러리 불러오기\n",
    "import pandas as pd\n",
    "import matplotlib.pyplot as plt\n",
    "import seaborn as sns\n",
    "plt.rcParams['font.family'] = 'Malgun Gothic'\n",
    "\n",
    "# ===================== 1. 데이터 로드 =====================\n",
    "# 각 데이터 파일 경로 설정\n",
    "purchase_file_path = \"purchase_history.csv\"  # <빈칸>: \"purchase_history.csv\" 구매 이력 데이터 파일 경로 입력\n",
    "survey_file_path = \"satisfaction_survey.csv\"  # <빈칸>: \"satisfaction_survey.csv\" 고객 만족도 데이터 파일 경로 입력 \n",
    "\n",
    "# CSV 파일을 데이터프레임으로 로드\n",
    "df_purchase = pd.read_csv(purchase_file_path)  # <빈칸>: pandas의 read_csv() 함수를 사용하여 데이터 로드\n",
    "df_survey = pd.read_csv(survey_file_path)  # <빈칸>: 고객 만족도 데이터 로드"
   ]
  },
  {
   "cell_type": "code",
   "execution_count": 33,
   "metadata": {},
   "outputs": [
    {
     "name": "stdout",
     "output_type": "stream",
     "text": [
      "=== 구매 이력 데이터 정보 ===\n",
      "<class 'pandas.core.frame.DataFrame'>\n",
      "RangeIndex: 1000 entries, 0 to 999\n",
      "Data columns (total 3 columns):\n",
      " #   Column           Non-Null Count  Dtype\n",
      "---  ------           --------------  -----\n",
      " 0   CustomerID       1000 non-null   int64\n",
      " 1   PurchaseHistory  1000 non-null   int64\n",
      " 2   TotalSpent       1000 non-null   int64\n",
      "dtypes: int64(3)\n",
      "memory usage: 23.6 KB\n",
      "None\n",
      "\n",
      "=== 고객 만족도 설문 데이터 정보 ===\n",
      "<class 'pandas.core.frame.DataFrame'>\n",
      "RangeIndex: 1000 entries, 0 to 999\n",
      "Data columns (total 2 columns):\n",
      " #   Column        Non-Null Count  Dtype\n",
      "---  ------        --------------  -----\n",
      " 0   CustomerID    1000 non-null   int64\n",
      " 1   Satisfaction  1000 non-null   int64\n",
      "dtypes: int64(2)\n",
      "memory usage: 15.8 KB\n",
      "None\n"
     ]
    }
   ],
   "source": [
    "\n",
    "# ===================== 2. 데이터 확인 =====================\n",
    "# 데이터프레임 기본 정보 출력\n",
    "print(\"=== 구매 이력 데이터 정보 ===\")\n",
    "print(df_purchase.info())  # <빈칸>: 데이터프레임의 구조 및 컬럼 정보 확인\n",
    "\n",
    "print(\"\\n=== 고객 만족도 설문 데이터 정보 ===\")\n",
    "print(df_survey.info())  # <빈칸>: 데이터프레임의 구조 및 컬럼 정보 확인"
   ]
  },
  {
   "cell_type": "code",
   "execution_count": 35,
   "metadata": {},
   "outputs": [
    {
     "name": "stdout",
     "output_type": "stream",
     "text": [
      "\n",
      "=== 구매 이력 데이터 샘플 ===\n"
     ]
    },
    {
     "data": {
      "text/html": [
       "<div>\n",
       "<style scoped>\n",
       "    .dataframe tbody tr th:only-of-type {\n",
       "        vertical-align: middle;\n",
       "    }\n",
       "\n",
       "    .dataframe tbody tr th {\n",
       "        vertical-align: top;\n",
       "    }\n",
       "\n",
       "    .dataframe thead th {\n",
       "        text-align: right;\n",
       "    }\n",
       "</style>\n",
       "<table border=\"1\" class=\"dataframe\">\n",
       "  <thead>\n",
       "    <tr style=\"text-align: right;\">\n",
       "      <th></th>\n",
       "      <th>CustomerID</th>\n",
       "      <th>PurchaseHistory</th>\n",
       "      <th>TotalSpent</th>\n",
       "    </tr>\n",
       "  </thead>\n",
       "  <tbody>\n",
       "    <tr>\n",
       "      <th>0</th>\n",
       "      <td>1</td>\n",
       "      <td>21</td>\n",
       "      <td>1050</td>\n",
       "    </tr>\n",
       "    <tr>\n",
       "      <th>1</th>\n",
       "      <td>2</td>\n",
       "      <td>5</td>\n",
       "      <td>100</td>\n",
       "    </tr>\n",
       "    <tr>\n",
       "      <th>2</th>\n",
       "      <td>3</td>\n",
       "      <td>12</td>\n",
       "      <td>516</td>\n",
       "    </tr>\n",
       "    <tr>\n",
       "      <th>3</th>\n",
       "      <td>4</td>\n",
       "      <td>13</td>\n",
       "      <td>585</td>\n",
       "    </tr>\n",
       "    <tr>\n",
       "      <th>4</th>\n",
       "      <td>5</td>\n",
       "      <td>44</td>\n",
       "      <td>3696</td>\n",
       "    </tr>\n",
       "  </tbody>\n",
       "</table>\n",
       "</div>"
      ],
      "text/plain": [
       "   CustomerID  PurchaseHistory  TotalSpent\n",
       "0           1               21        1050\n",
       "1           2                5         100\n",
       "2           3               12         516\n",
       "3           4               13         585\n",
       "4           5               44        3696"
      ]
     },
     "execution_count": 35,
     "metadata": {},
     "output_type": "execute_result"
    }
   ],
   "source": [
    "# 데이터의 상위 5개 행 출력\n",
    "print(\"\\n=== 구매 이력 데이터 샘플 ===\")\n",
    "df_purchase.head()  # <빈칸>: 데이터의 상위 5개 행 출력"
   ]
  },
  {
   "cell_type": "code",
   "execution_count": 37,
   "metadata": {},
   "outputs": [
    {
     "name": "stdout",
     "output_type": "stream",
     "text": [
      "\n",
      "=== 고객 만족도 설문 데이터 샘플 ===\n"
     ]
    },
    {
     "data": {
      "text/html": [
       "<div>\n",
       "<style scoped>\n",
       "    .dataframe tbody tr th:only-of-type {\n",
       "        vertical-align: middle;\n",
       "    }\n",
       "\n",
       "    .dataframe tbody tr th {\n",
       "        vertical-align: top;\n",
       "    }\n",
       "\n",
       "    .dataframe thead th {\n",
       "        text-align: right;\n",
       "    }\n",
       "</style>\n",
       "<table border=\"1\" class=\"dataframe\">\n",
       "  <thead>\n",
       "    <tr style=\"text-align: right;\">\n",
       "      <th></th>\n",
       "      <th>CustomerID</th>\n",
       "      <th>Satisfaction</th>\n",
       "    </tr>\n",
       "  </thead>\n",
       "  <tbody>\n",
       "    <tr>\n",
       "      <th>0</th>\n",
       "      <td>1</td>\n",
       "      <td>1</td>\n",
       "    </tr>\n",
       "    <tr>\n",
       "      <th>1</th>\n",
       "      <td>2</td>\n",
       "      <td>1</td>\n",
       "    </tr>\n",
       "    <tr>\n",
       "      <th>2</th>\n",
       "      <td>3</td>\n",
       "      <td>10</td>\n",
       "    </tr>\n",
       "    <tr>\n",
       "      <th>3</th>\n",
       "      <td>4</td>\n",
       "      <td>4</td>\n",
       "    </tr>\n",
       "    <tr>\n",
       "      <th>4</th>\n",
       "      <td>5</td>\n",
       "      <td>4</td>\n",
       "    </tr>\n",
       "  </tbody>\n",
       "</table>\n",
       "</div>"
      ],
      "text/plain": [
       "   CustomerID  Satisfaction\n",
       "0           1             1\n",
       "1           2             1\n",
       "2           3            10\n",
       "3           4             4\n",
       "4           5             4"
      ]
     },
     "execution_count": 37,
     "metadata": {},
     "output_type": "execute_result"
    }
   ],
   "source": [
    "print(\"\\n=== 고객 만족도 설문 데이터 샘플 ===\")\n",
    "df_survey.head()  # <빈칸>: 데이터의 상위 5개 행 출력"
   ]
  },
  {
   "cell_type": "code",
   "execution_count": 38,
   "metadata": {},
   "outputs": [
    {
     "name": "stdout",
     "output_type": "stream",
     "text": [
      "\n",
      "=== 병합된 데이터 확인 ===\n"
     ]
    },
    {
     "data": {
      "text/html": [
       "<div>\n",
       "<style scoped>\n",
       "    .dataframe tbody tr th:only-of-type {\n",
       "        vertical-align: middle;\n",
       "    }\n",
       "\n",
       "    .dataframe tbody tr th {\n",
       "        vertical-align: top;\n",
       "    }\n",
       "\n",
       "    .dataframe thead th {\n",
       "        text-align: right;\n",
       "    }\n",
       "</style>\n",
       "<table border=\"1\" class=\"dataframe\">\n",
       "  <thead>\n",
       "    <tr style=\"text-align: right;\">\n",
       "      <th></th>\n",
       "      <th>CustomerID</th>\n",
       "      <th>PurchaseHistory</th>\n",
       "      <th>TotalSpent</th>\n",
       "      <th>Satisfaction</th>\n",
       "    </tr>\n",
       "  </thead>\n",
       "  <tbody>\n",
       "    <tr>\n",
       "      <th>0</th>\n",
       "      <td>1</td>\n",
       "      <td>21</td>\n",
       "      <td>1050</td>\n",
       "      <td>1</td>\n",
       "    </tr>\n",
       "    <tr>\n",
       "      <th>1</th>\n",
       "      <td>2</td>\n",
       "      <td>5</td>\n",
       "      <td>100</td>\n",
       "      <td>1</td>\n",
       "    </tr>\n",
       "    <tr>\n",
       "      <th>2</th>\n",
       "      <td>3</td>\n",
       "      <td>12</td>\n",
       "      <td>516</td>\n",
       "      <td>10</td>\n",
       "    </tr>\n",
       "    <tr>\n",
       "      <th>3</th>\n",
       "      <td>4</td>\n",
       "      <td>13</td>\n",
       "      <td>585</td>\n",
       "      <td>4</td>\n",
       "    </tr>\n",
       "    <tr>\n",
       "      <th>4</th>\n",
       "      <td>5</td>\n",
       "      <td>44</td>\n",
       "      <td>3696</td>\n",
       "      <td>4</td>\n",
       "    </tr>\n",
       "  </tbody>\n",
       "</table>\n",
       "</div>"
      ],
      "text/plain": [
       "   CustomerID  PurchaseHistory  TotalSpent  Satisfaction\n",
       "0           1               21        1050             1\n",
       "1           2                5         100             1\n",
       "2           3               12         516            10\n",
       "3           4               13         585             4\n",
       "4           5               44        3696             4"
      ]
     },
     "execution_count": 38,
     "metadata": {},
     "output_type": "execute_result"
    }
   ],
   "source": [
    "# ===================== 3. 데이터 병합 =====================\n",
    "# 두 데이터셋을 CustomerID를 기준으로 병합\n",
    "df_merged = pd.merge(df_purchase, df_survey, on=\"CustomerID\")  # <빈칸>: 구매 이력과 고객 만족도 데이터를 CustomerID 기준으로 병합\n",
    "\n",
    "# 병합된 데이터 확인\n",
    "print(\"\\n=== 병합된 데이터 확인 ===\")\n",
    "df_merged.head()  # <빈칸>: 병합된 데이터의 일부 출력"
   ]
  },
  {
   "cell_type": "code",
   "execution_count": 39,
   "metadata": {},
   "outputs": [
    {
     "name": "stdout",
     "output_type": "stream",
     "text": [
      "\n",
      "=== 결측치 개수 확인 ===\n",
      "CustomerID         0\n",
      "PurchaseHistory    0\n",
      "TotalSpent         0\n",
      "Satisfaction       0\n",
      "dtype: int64\n",
      "\n",
      "=== 결측치 처리 후 데이터 크기 ===\n",
      "<class 'pandas.core.frame.DataFrame'>\n",
      "RangeIndex: 1000 entries, 0 to 999\n",
      "Data columns (total 4 columns):\n",
      " #   Column           Non-Null Count  Dtype\n",
      "---  ------           --------------  -----\n",
      " 0   CustomerID       1000 non-null   int64\n",
      " 1   PurchaseHistory  1000 non-null   int64\n",
      " 2   TotalSpent       1000 non-null   int64\n",
      " 3   Satisfaction     1000 non-null   int64\n",
      "dtypes: int64(4)\n",
      "memory usage: 31.4 KB\n",
      "None\n"
     ]
    }
   ],
   "source": [
    "# ===================== 4. 결측치 처리 =====================\n",
    "# 각 컬럼별 결측치 개수 확인\n",
    "print(\"\\n=== 결측치 개수 확인 ===\")\n",
    "print(df_merged.isna().sum())  # <빈칸>: 결측치 개수 확인\n",
    "\n",
    "# 결측치 제거\n",
    "df_merged = df_merged.dropna()  # <빈칸>: 결측치가 있는 행 제거\n",
    "\n",
    "# 결측치 처리 후 데이터 확인\n",
    "print(\"\\n=== 결측치 처리 후 데이터 크기 ===\")\n",
    "print(df_merged.info())  # <빈칸>: 데이터 크기 확인"
   ]
  },
  {
   "cell_type": "code",
   "execution_count": 41,
   "metadata": {},
   "outputs": [
    {
     "name": "stdout",
     "output_type": "stream",
     "text": [
      "\n",
      "=== 구매 횟수 기반 고객 세분화 결과 ===\n"
     ]
    },
    {
     "data": {
      "text/plain": [
       "PurchaseCategory\n",
       "High      420\n",
       "Low       291\n",
       "Medium    289\n",
       "Name: count, dtype: int64"
      ]
     },
     "execution_count": 41,
     "metadata": {},
     "output_type": "execute_result"
    }
   ],
   "source": [
    "# ===================== 5. 고객 세분화 (구매 이력 기반) =====================\n",
    "# 구매 횟수(PurchaseHistory)를 기준으로 고객을 세 그룹으로 나누기\n",
    "def categorize_purchase_history(purchase_count):\n",
    "    if purchase_count<=15:\n",
    "        return 'Low'\n",
    "    elif 15<purchase_count<=30:\n",
    "        return 'Medium'\n",
    "    else:\n",
    "        return 'High'\n",
    "\n",
    "df_merged[\"PurchaseCategory\"] = df_merged[\"PurchaseHistory\"].apply(categorize_purchase_history)  # <빈칸>: 구매 횟수를 기준으로 고객 그룹화 적용\n",
    "\n",
    "# 고객 세분화 결과 확인\n",
    "print(\"\\n=== 구매 횟수 기반 고객 세분화 결과 ===\")\n",
    "df_merged[\"PurchaseCategory\"].value_counts()  # <빈칸>: 각 그룹별 고객 수 확인"
   ]
  },
  {
   "cell_type": "code",
   "execution_count": 42,
   "metadata": {},
   "outputs": [
    {
     "name": "stdout",
     "output_type": "stream",
     "text": [
      "\n",
      "=== 고객 만족도 기반 세분화 결과 ===\n"
     ]
    },
    {
     "data": {
      "text/plain": [
       "SatisfactionCategory\n",
       "Medium    381\n",
       "High      322\n",
       "Low       297\n",
       "Name: count, dtype: int64"
      ]
     },
     "execution_count": 42,
     "metadata": {},
     "output_type": "execute_result"
    }
   ],
   "source": [
    "# ===================== 6. 고객 만족도 기반 세분화 =====================\n",
    "# 만족도 점수(Satisfaction)를 기준으로 고객을 세 그룹으로 나누기\n",
    "def categorize_satisfaction(satisfaction_score):\n",
    "    if satisfaction_score<=3:\n",
    "        return 'Low'\n",
    "    elif 3<satisfaction_score<=7:\n",
    "        return 'Medium'\n",
    "    else:\n",
    "        return 'High'\n",
    "\n",
    "df_merged[\"SatisfactionCategory\"] = df_merged[\"Satisfaction\"].apply(categorize_satisfaction)  # <빈칸>: 고객 만족도를 기준으로 그룹화 적용\n",
    "\n",
    "# 고객 만족도 세분화 결과 확인\n",
    "print(\"\\n=== 고객 만족도 기반 세분화 결과 ===\")\n",
    "df_merged[\"SatisfactionCategory\"].value_counts()  # <빈칸>: 각 그룹별 고객 수 확인"
   ]
  },
  {
   "cell_type": "code",
   "execution_count": 43,
   "metadata": {},
   "outputs": [
    {
     "name": "stdout",
     "output_type": "stream",
     "text": [
      "\n",
      "=== 구매 카테고리별 평균 지출 금액 분석 ===\n"
     ]
    },
    {
     "data": {
      "text/html": [
       "<div>\n",
       "<style scoped>\n",
       "    .dataframe tbody tr th:only-of-type {\n",
       "        vertical-align: middle;\n",
       "    }\n",
       "\n",
       "    .dataframe tbody tr th {\n",
       "        vertical-align: top;\n",
       "    }\n",
       "\n",
       "    .dataframe thead th {\n",
       "        text-align: right;\n",
       "    }\n",
       "</style>\n",
       "<table border=\"1\" class=\"dataframe\">\n",
       "  <thead>\n",
       "    <tr style=\"text-align: right;\">\n",
       "      <th></th>\n",
       "      <th>PurchaseCategory</th>\n",
       "      <th>AvgSpent</th>\n",
       "    </tr>\n",
       "  </thead>\n",
       "  <tbody>\n",
       "    <tr>\n",
       "      <th>0</th>\n",
       "      <td>High</td>\n",
       "      <td>2149.033333</td>\n",
       "    </tr>\n",
       "    <tr>\n",
       "      <th>1</th>\n",
       "      <td>Low</td>\n",
       "      <td>427.467354</td>\n",
       "    </tr>\n",
       "    <tr>\n",
       "      <th>2</th>\n",
       "      <td>Medium</td>\n",
       "      <td>1180.608997</td>\n",
       "    </tr>\n",
       "  </tbody>\n",
       "</table>\n",
       "</div>"
      ],
      "text/plain": [
       "  PurchaseCategory     AvgSpent\n",
       "0             High  2149.033333\n",
       "1              Low   427.467354\n",
       "2           Medium  1180.608997"
      ]
     },
     "execution_count": 43,
     "metadata": {},
     "output_type": "execute_result"
    }
   ],
   "source": [
    "# ===================== 7. 각 그룹별 평균 구매 금액 분석 =====================\n",
    "# 구매 카테고리별 평균 총 지출 금액 분석\n",
    "df_purchase_analysis = df_merged.groupby(\"PurchaseCategory\")[\"TotalSpent\"].mean().reset_index()  # <빈칸>: 그룹화 후 평균 구매 금액 계산\n",
    "df_purchase_analysis.rename(columns={\"TotalSpent\": \"AvgSpent\"}, inplace=True)  # <빈칸>: 컬럼명 변경\n",
    "\n",
    "# 구매 카테고리별 평균 지출 금액 출력\n",
    "print(\"\\n=== 구매 카테고리별 평균 지출 금액 분석 ===\")\n",
    "df_purchase_analysis"
   ]
  },
  {
   "cell_type": "code",
   "execution_count": 44,
   "metadata": {},
   "outputs": [
    {
     "name": "stdout",
     "output_type": "stream",
     "text": [
      "\n",
      "=== 만족도 카테고리별 평균 지출 금액 분석 ===\n"
     ]
    },
    {
     "data": {
      "text/html": [
       "<div>\n",
       "<style scoped>\n",
       "    .dataframe tbody tr th:only-of-type {\n",
       "        vertical-align: middle;\n",
       "    }\n",
       "\n",
       "    .dataframe tbody tr th {\n",
       "        vertical-align: top;\n",
       "    }\n",
       "\n",
       "    .dataframe thead th {\n",
       "        text-align: right;\n",
       "    }\n",
       "</style>\n",
       "<table border=\"1\" class=\"dataframe\">\n",
       "  <thead>\n",
       "    <tr style=\"text-align: right;\">\n",
       "      <th></th>\n",
       "      <th>SatisfactionCategory</th>\n",
       "      <th>AvgSpent</th>\n",
       "    </tr>\n",
       "  </thead>\n",
       "  <tbody>\n",
       "    <tr>\n",
       "      <th>0</th>\n",
       "      <td>High</td>\n",
       "      <td>1292.857143</td>\n",
       "    </tr>\n",
       "    <tr>\n",
       "      <th>1</th>\n",
       "      <td>Low</td>\n",
       "      <td>1426.047138</td>\n",
       "    </tr>\n",
       "    <tr>\n",
       "      <th>2</th>\n",
       "      <td>Medium</td>\n",
       "      <td>1386.737533</td>\n",
       "    </tr>\n",
       "  </tbody>\n",
       "</table>\n",
       "</div>"
      ],
      "text/plain": [
       "  SatisfactionCategory     AvgSpent\n",
       "0                 High  1292.857143\n",
       "1                  Low  1426.047138\n",
       "2               Medium  1386.737533"
      ]
     },
     "execution_count": 44,
     "metadata": {},
     "output_type": "execute_result"
    }
   ],
   "source": [
    "# 만족도 카테고리별 평균 총 지출 금액 분석\n",
    "df_satisfaction_analysis = df_merged.groupby(\"SatisfactionCategory\")[\"TotalSpent\"].mean().reset_index()  # <빈칸>: 그룹화 후 평균 구매 금액 계산\n",
    "df_satisfaction_analysis.rename(columns={\"TotalSpent\": \"AvgSpent\"}, inplace=True)  # <빈칸>: 컬럼명 변경\n",
    "\n",
    "# 만족도 카테고리별 평균 지출 금액 출력\n",
    "print(\"\\n=== 만족도 카테고리별 평균 지출 금액 분석 ===\")\n",
    "df_satisfaction_analysis"
   ]
  },
  {
   "cell_type": "code",
   "execution_count": 45,
   "metadata": {},
   "outputs": [
    {
     "name": "stdout",
     "output_type": "stream",
     "text": [
      "\n",
      "=== 구매 카테고리와 만족도 카테고리 간의 관계 분석 ===\n"
     ]
    },
    {
     "data": {
      "text/html": [
       "<div>\n",
       "<style scoped>\n",
       "    .dataframe tbody tr th:only-of-type {\n",
       "        vertical-align: middle;\n",
       "    }\n",
       "\n",
       "    .dataframe tbody tr th {\n",
       "        vertical-align: top;\n",
       "    }\n",
       "\n",
       "    .dataframe thead th {\n",
       "        text-align: right;\n",
       "    }\n",
       "</style>\n",
       "<table border=\"1\" class=\"dataframe\">\n",
       "  <thead>\n",
       "    <tr style=\"text-align: right;\">\n",
       "      <th></th>\n",
       "      <th>PurchaseCategory</th>\n",
       "      <th>SatisfactionCategory</th>\n",
       "      <th>CustomerCount</th>\n",
       "    </tr>\n",
       "  </thead>\n",
       "  <tbody>\n",
       "    <tr>\n",
       "      <th>0</th>\n",
       "      <td>High</td>\n",
       "      <td>High</td>\n",
       "      <td>132</td>\n",
       "    </tr>\n",
       "    <tr>\n",
       "      <th>1</th>\n",
       "      <td>High</td>\n",
       "      <td>Low</td>\n",
       "      <td>130</td>\n",
       "    </tr>\n",
       "    <tr>\n",
       "      <th>2</th>\n",
       "      <td>High</td>\n",
       "      <td>Medium</td>\n",
       "      <td>158</td>\n",
       "    </tr>\n",
       "    <tr>\n",
       "      <th>3</th>\n",
       "      <td>Low</td>\n",
       "      <td>High</td>\n",
       "      <td>91</td>\n",
       "    </tr>\n",
       "    <tr>\n",
       "      <th>4</th>\n",
       "      <td>Low</td>\n",
       "      <td>Low</td>\n",
       "      <td>79</td>\n",
       "    </tr>\n",
       "    <tr>\n",
       "      <th>5</th>\n",
       "      <td>Low</td>\n",
       "      <td>Medium</td>\n",
       "      <td>121</td>\n",
       "    </tr>\n",
       "    <tr>\n",
       "      <th>6</th>\n",
       "      <td>Medium</td>\n",
       "      <td>High</td>\n",
       "      <td>99</td>\n",
       "    </tr>\n",
       "    <tr>\n",
       "      <th>7</th>\n",
       "      <td>Medium</td>\n",
       "      <td>Low</td>\n",
       "      <td>88</td>\n",
       "    </tr>\n",
       "    <tr>\n",
       "      <th>8</th>\n",
       "      <td>Medium</td>\n",
       "      <td>Medium</td>\n",
       "      <td>102</td>\n",
       "    </tr>\n",
       "  </tbody>\n",
       "</table>\n",
       "</div>"
      ],
      "text/plain": [
       "  PurchaseCategory SatisfactionCategory  CustomerCount\n",
       "0             High                 High            132\n",
       "1             High                  Low            130\n",
       "2             High               Medium            158\n",
       "3              Low                 High             91\n",
       "4              Low                  Low             79\n",
       "5              Low               Medium            121\n",
       "6           Medium                 High             99\n",
       "7           Medium                  Low             88\n",
       "8           Medium               Medium            102"
      ]
     },
     "execution_count": 45,
     "metadata": {},
     "output_type": "execute_result"
    }
   ],
   "source": [
    "# ===================== 8. 구매 카테고리와 만족도 카테고리 간의 관계 분석 =====================\n",
    "# 구매 카테고리별 고객 만족도 분포 확인\n",
    "df_category_relation = df_merged.groupby([\"PurchaseCategory\", \"SatisfactionCategory\"])[\"Satisfaction\"].count().reset_index()  # <빈칸>: 그룹화 후 고객 수 계산\n",
    "df_category_relation.rename(columns={\"Satisfaction\": \"CustomerCount\"}, inplace=True)  # <빈칸>: 컬럼명 변경\n",
    "\n",
    "# 관계 분석 결과 출력\n",
    "print(\"\\n=== 구매 카테고리와 만족도 카테고리 간의 관계 분석 ===\")\n",
    "df_category_relation"
   ]
  },
  {
   "cell_type": "code",
   "execution_count": 46,
   "metadata": {},
   "outputs": [
    {
     "name": "stdout",
     "output_type": "stream",
     "text": [
      "\n",
      "=== 분석된 데이터 저장 완료 ===\n"
     ]
    },
    {
     "data": {
      "image/png": "[encoded data removed]",
      "text/plain": [
       "<Figure size 800x500 with 1 Axes>"
      ]
     },
     "metadata": {},
     "output_type": "display_data"
    },
    {
     "data": {
      "image/png": "[encoded data removed]",
      "text/plain": [
       "<Figure size 800x500 with 1 Axes>"
      ]
     },
     "metadata": {},
     "output_type": "display_data"
    },
    {
     "data": {
      "image/png": "[encoded data removed]",
      "text/plain": [
       "<Figure size 800x500 with 1 Axes>"
      ]
     },
     "metadata": {},
     "output_type": "display_data"
    },
    {
     "data": {
      "image/png": "[encoded data removed]",
      "text/plain": [
       "<Figure size 800x500 with 2 Axes>"
      ]
     },
     "metadata": {},
     "output_type": "display_data"
    },
    {
     "data": {
      "image/png": "[encoded data removed]",
      "text/plain": [
       "<Figure size 800x500 with 1 Axes>"
      ]
     },
     "metadata": {},
     "output_type": "display_data"
    }
   ],
   "source": [
    "# ===================== 9. 데이터 저장 =====================\n",
    "# 분석된 데이터를 CSV 파일로 저장\n",
    "df_merged.to_csv('segmented_customer_data.csv', index=False)  # 파일명 : segmented_customer_data / 구매 이력과 만족도 데이터를 병합한 데이터 저장\n",
    "df_purchase_analysis.to_csv('purchase_category_analysis.csv', index=False)  # 파일명 : purchase_category_analysis / 구매 카테고리별 평균 지출 금액 데이터 저장\n",
    "df_satisfaction_analysis.to_csv('satisfaction_category_analysis.csv', index=False)  # 파일명 : satisfaction_category_analysis / 만족도 카테고리별 평균 지출 금액 데이터 저장\n",
    "df_category_relation.to_csv('category_relation_analysis.csv', index=False)  # 파일명 : category_relation_analysis / 구매 카테고리와 만족도 관계 분석 데이터 저장\n",
    "\n",
    "print(\"\\n=== 분석된 데이터 저장 완료 ===\")\n",
    "\n",
    "# ===================== 10. 시각화 =====================\n",
    "\n",
    "# 1) 구매 카테고리별 고객 수 시각화\n",
    "plt.figure(figsize=(8, 5))\n",
    "sns.countplot(x=\"PurchaseCategory\", data=df_merged, palette=\"Blues\")\n",
    "plt.title(\"구매 카테고리별 고객 수\")\n",
    "plt.xlabel(\"구매 카테고리\")\n",
    "plt.ylabel(\"고객 수\")\n",
    "plt.show()\n",
    "\n",
    "# 2) 고객 만족도별 고객 수 시각화\n",
    "plt.figure(figsize=(8, 5))\n",
    "sns.countplot(x=\"SatisfactionCategory\", data=df_merged, palette=\"Greens\")\n",
    "plt.title(\"고객 만족도별 고객 수\")\n",
    "plt.xlabel(\"만족도 카테고리\")\n",
    "plt.ylabel(\"고객 수\")\n",
    "plt.show()\n",
    "\n",
    "# 3) 구매 카테고리별 평균 지출 금액 시각화\n",
    "plt.figure(figsize=(8, 5))\n",
    "sns.barplot(x=\"PurchaseCategory\", y=\"AvgSpent\", data=df_purchase_analysis, palette=\"coolwarm\")\n",
    "plt.title(\"구매 카테고리별 평균 지출 금액\")\n",
    "plt.xlabel(\"구매 카테고리\")\n",
    "plt.ylabel(\"평균 지출 금액\")\n",
    "plt.show()\n",
    "\n",
    "# 4) 구매 카테고리 & 만족도 관계 히트맵\n",
    "plt.figure(figsize=(8, 5))\n",
    "heatmap_data = df_category_relation.pivot(index=\"PurchaseCategory\", columns=\"SatisfactionCategory\", values=\"CustomerCount\")\n",
    "sns.heatmap(heatmap_data, annot=True, cmap=\"Blues\")\n",
    "plt.title(\"구매 카테고리와 만족도 간 관계\")\n",
    "plt.xlabel(\"만족도 카테고리\")\n",
    "plt.ylabel(\"구매 카테고리\")\n",
    "plt.show()\n",
    "\n",
    "# 5) 만족도 카테고리별 평균 지출 금액 시각화\n",
    "plt.figure(figsize=(8, 5))\n",
    "sns.barplot(x=\"SatisfactionCategory\", y=\"AvgSpent\", data=df_satisfaction_analysis, palette=\"Purples\")\n",
    "plt.title(\"만족도 카테고리별 평균 지출 금액\")\n",
    "plt.xlabel(\"만족도 카테고리\")\n",
    "plt.ylabel(\"평균 지출 금액\")\n",
    "plt.show()\n"
   ]
  },
  {
   "cell_type": "markdown",
   "metadata": {},
   "source": [
    "## ws_2_5"
   ]
  },
  {
   "cell_type": "code",
   "execution_count": 79,
   "metadata": {},
   "outputs": [
    {
     "name": "stdout",
     "output_type": "stream",
     "text": [
      "=== 판매 데이터 정보 ===\n",
      "<class 'pandas.core.frame.DataFrame'>\n",
      "RangeIndex: 1000 entries, 0 to 999\n",
      "Data columns (total 5 columns):\n",
      " #   Column              Non-Null Count  Dtype  \n",
      "---  ------              --------------  -----  \n",
      " 0   ProductID           1000 non-null   int64  \n",
      " 1   Price               1000 non-null   int64  \n",
      " 2   SalesVolume         1000 non-null   int64  \n",
      " 3   DiscountRate        1000 non-null   float64\n",
      " 4   AdvertisingExpense  1000 non-null   int64  \n",
      "dtypes: float64(1), int64(4)\n",
      "memory usage: 39.2 KB\n"
     ]
    }
   ],
   "source": [
    "# ===================== 1. 라이브러리 불러오기 =====================\n",
    "import pandas as pd\n",
    "import matplotlib.pyplot as plt\n",
    "import seaborn as sns\n",
    "plt.rcParams['font.family'] = 'Malgun Gothic'\n",
    "\n",
    "# ===================== 2. 데이터 로드 =====================\n",
    "# 판매 데이터 파일 경로 설정\n",
    "sales_file_path = \"sales_data_2.csv\" # [Q1] 판매 데이터 파일 sales_data.csv 경로 입력\n",
    "\n",
    "# CSV 파일을 데이터프레임으로 로드\n",
    "df_sales = pd.read_csv(sales_file_path)  # [Q2] pandas를 사용하여 CSV 파일을 로드\n",
    "\n",
    "# ===================== 3. 데이터 확인 =====================\n",
    "# 데이터프레임 기본 정보 출력\n",
    "print(\"=== 판매 데이터 정보 ===\")\n",
    "df_sales.info()  # [Q3] 데이터프레임의 컬럼 정보 및 데이터 타입 확인"
   ]
  },
  {
   "cell_type": "code",
   "execution_count": 80,
   "metadata": {},
   "outputs": [
    {
     "name": "stdout",
     "output_type": "stream",
     "text": [
      "\n",
      "=== 판매 데이터 샘플 ===\n"
     ]
    },
    {
     "data": {
      "text/html": [
       "<div>\n",
       "<style scoped>\n",
       "    .dataframe tbody tr th:only-of-type {\n",
       "        vertical-align: middle;\n",
       "    }\n",
       "\n",
       "    .dataframe tbody tr th {\n",
       "        vertical-align: top;\n",
       "    }\n",
       "\n",
       "    .dataframe thead th {\n",
       "        text-align: right;\n",
       "    }\n",
       "</style>\n",
       "<table border=\"1\" class=\"dataframe\">\n",
       "  <thead>\n",
       "    <tr style=\"text-align: right;\">\n",
       "      <th></th>\n",
       "      <th>ProductID</th>\n",
       "      <th>Price</th>\n",
       "      <th>SalesVolume</th>\n",
       "      <th>DiscountRate</th>\n",
       "      <th>AdvertisingExpense</th>\n",
       "    </tr>\n",
       "  </thead>\n",
       "  <tbody>\n",
       "    <tr>\n",
       "      <th>0</th>\n",
       "      <td>1</td>\n",
       "      <td>10</td>\n",
       "      <td>405</td>\n",
       "      <td>0.300956</td>\n",
       "      <td>751</td>\n",
       "    </tr>\n",
       "    <tr>\n",
       "      <th>1</th>\n",
       "      <td>2</td>\n",
       "      <td>24</td>\n",
       "      <td>40</td>\n",
       "      <td>0.166796</td>\n",
       "      <td>936</td>\n",
       "    </tr>\n",
       "    <tr>\n",
       "      <th>2</th>\n",
       "      <td>3</td>\n",
       "      <td>81</td>\n",
       "      <td>177</td>\n",
       "      <td>0.724999</td>\n",
       "      <td>156</td>\n",
       "    </tr>\n",
       "    <tr>\n",
       "      <th>3</th>\n",
       "      <td>4</td>\n",
       "      <td>21</td>\n",
       "      <td>188</td>\n",
       "      <td>0.239064</td>\n",
       "      <td>836</td>\n",
       "    </tr>\n",
       "    <tr>\n",
       "      <th>4</th>\n",
       "      <td>5</td>\n",
       "      <td>16</td>\n",
       "      <td>102</td>\n",
       "      <td>0.054814</td>\n",
       "      <td>324</td>\n",
       "    </tr>\n",
       "  </tbody>\n",
       "</table>\n",
       "</div>"
      ],
      "text/plain": [
       "   ProductID  Price  SalesVolume  DiscountRate  AdvertisingExpense\n",
       "0          1     10          405      0.300956                 751\n",
       "1          2     24           40      0.166796                 936\n",
       "2          3     81          177      0.724999                 156\n",
       "3          4     21          188      0.239064                 836\n",
       "4          5     16          102      0.054814                 324"
      ]
     },
     "execution_count": 80,
     "metadata": {},
     "output_type": "execute_result"
    }
   ],
   "source": [
    "# 데이터의 상위 5개 행 출력\n",
    "print(\"\\n=== 판매 데이터 샘플 ===\")\n",
    "df_sales.head()  # [Q4] 데이터의 일부 샘플 확인"
   ]
  },
  {
   "cell_type": "code",
   "execution_count": 81,
   "metadata": {},
   "outputs": [
    {
     "name": "stdout",
     "output_type": "stream",
     "text": [
      "\n",
      "=== 결측치 개수 확인 ===\n",
      "ProductID             0\n",
      "Price                 0\n",
      "SalesVolume           0\n",
      "DiscountRate          0\n",
      "AdvertisingExpense    0\n",
      "dtype: int64\n"
     ]
    }
   ],
   "source": [
    "# ===================== 4. 결측치 및 이상치 처리 =====================\n",
    "# 결측치 확인\n",
    "print(\"\\n=== 결측치 개수 확인 ===\")\n",
    "print(df_sales.isna().sum())  # [Q5] 각 컬럼의 결측치 개수를 출력"
   ]
  },
  {
   "cell_type": "code",
   "execution_count": 82,
   "metadata": {},
   "outputs": [
    {
     "name": "stdout",
     "output_type": "stream",
     "text": [
      "\n",
      "=== 기본 통계 정보 확인 ===\n"
     ]
    },
    {
     "data": {
      "text/html": [
       "<div>\n",
       "<style scoped>\n",
       "    .dataframe tbody tr th:only-of-type {\n",
       "        vertical-align: middle;\n",
       "    }\n",
       "\n",
       "    .dataframe tbody tr th {\n",
       "        vertical-align: top;\n",
       "    }\n",
       "\n",
       "    .dataframe thead th {\n",
       "        text-align: right;\n",
       "    }\n",
       "</style>\n",
       "<table border=\"1\" class=\"dataframe\">\n",
       "  <thead>\n",
       "    <tr style=\"text-align: right;\">\n",
       "      <th></th>\n",
       "      <th>ProductID</th>\n",
       "      <th>Price</th>\n",
       "      <th>SalesVolume</th>\n",
       "      <th>DiscountRate</th>\n",
       "      <th>AdvertisingExpense</th>\n",
       "    </tr>\n",
       "  </thead>\n",
       "  <tbody>\n",
       "    <tr>\n",
       "      <th>count</th>\n",
       "      <td>1000.000000</td>\n",
       "      <td>1000.000000</td>\n",
       "      <td>1000.000000</td>\n",
       "      <td>1000.000000</td>\n",
       "      <td>1000.000000</td>\n",
       "    </tr>\n",
       "    <tr>\n",
       "      <th>mean</th>\n",
       "      <td>500.500000</td>\n",
       "      <td>55.439000</td>\n",
       "      <td>245.955000</td>\n",
       "      <td>0.494126</td>\n",
       "      <td>505.658000</td>\n",
       "    </tr>\n",
       "    <tr>\n",
       "      <th>std</th>\n",
       "      <td>288.819436</td>\n",
       "      <td>25.576247</td>\n",
       "      <td>145.904191</td>\n",
       "      <td>0.292077</td>\n",
       "      <td>279.777434</td>\n",
       "    </tr>\n",
       "    <tr>\n",
       "      <th>min</th>\n",
       "      <td>1.000000</td>\n",
       "      <td>10.000000</td>\n",
       "      <td>1.000000</td>\n",
       "      <td>0.001706</td>\n",
       "      <td>10.000000</td>\n",
       "    </tr>\n",
       "    <tr>\n",
       "      <th>25%</th>\n",
       "      <td>250.750000</td>\n",
       "      <td>34.000000</td>\n",
       "      <td>116.000000</td>\n",
       "      <td>0.228897</td>\n",
       "      <td>261.000000</td>\n",
       "    </tr>\n",
       "    <tr>\n",
       "      <th>50%</th>\n",
       "      <td>500.500000</td>\n",
       "      <td>56.000000</td>\n",
       "      <td>239.500000</td>\n",
       "      <td>0.503061</td>\n",
       "      <td>505.000000</td>\n",
       "    </tr>\n",
       "    <tr>\n",
       "      <th>75%</th>\n",
       "      <td>750.250000</td>\n",
       "      <td>77.000000</td>\n",
       "      <td>382.000000</td>\n",
       "      <td>0.750773</td>\n",
       "      <td>752.500000</td>\n",
       "    </tr>\n",
       "    <tr>\n",
       "      <th>max</th>\n",
       "      <td>1000.000000</td>\n",
       "      <td>99.000000</td>\n",
       "      <td>499.000000</td>\n",
       "      <td>0.999536</td>\n",
       "      <td>998.000000</td>\n",
       "    </tr>\n",
       "  </tbody>\n",
       "</table>\n",
       "</div>"
      ],
      "text/plain": [
       "         ProductID        Price  SalesVolume  DiscountRate  AdvertisingExpense\n",
       "count  1000.000000  1000.000000  1000.000000   1000.000000         1000.000000\n",
       "mean    500.500000    55.439000   245.955000      0.494126          505.658000\n",
       "std     288.819436    25.576247   145.904191      0.292077          279.777434\n",
       "min       1.000000    10.000000     1.000000      0.001706           10.000000\n",
       "25%     250.750000    34.000000   116.000000      0.228897          261.000000\n",
       "50%     500.500000    56.000000   239.500000      0.503061          505.000000\n",
       "75%     750.250000    77.000000   382.000000      0.750773          752.500000\n",
       "max    1000.000000    99.000000   499.000000      0.999536          998.000000"
      ]
     },
     "execution_count": 82,
     "metadata": {},
     "output_type": "execute_result"
    }
   ],
   "source": [
    "# 이상치 확인 (기초 통계 정보 확인)\n",
    "print(\"\\n=== 기본 통계 정보 확인 ===\")\n",
    "df_sales.describe()  # [Q6] 데이터의 평균, 표준편차, 최소/최대값 확인"
   ]
  },
  {
   "cell_type": "code",
   "execution_count": 83,
   "metadata": {},
   "outputs": [
    {
     "name": "stdout",
     "output_type": "stream",
     "text": [
      "\n",
      "=== 매출(TotalRevenue) 컬럼 추가 후 데이터 확인 ===\n",
      "<class 'pandas.core.frame.DataFrame'>\n",
      "RangeIndex: 1000 entries, 0 to 999\n",
      "Data columns (total 6 columns):\n",
      " #   Column              Non-Null Count  Dtype  \n",
      "---  ------              --------------  -----  \n",
      " 0   ProductID           1000 non-null   int64  \n",
      " 1   Price               1000 non-null   int64  \n",
      " 2   SalesVolume         1000 non-null   int64  \n",
      " 3   DiscountRate        1000 non-null   float64\n",
      " 4   AdvertisingExpense  1000 non-null   int64  \n",
      " 5   TotalRevenue        1000 non-null   int64  \n",
      "dtypes: float64(1), int64(5)\n",
      "memory usage: 47.0 KB\n"
     ]
    }
   ],
   "source": [
    "# ===================== 5. 매출(TotalRevenue) 컬럼 생성 =====================\n",
    "# 매출 계산: 매출 = 가격 * 판매량\n",
    "df_sales[\"TotalRevenue\"] = df_sales['Price'] * df_sales['SalesVolume']  # [Q7] 가격과 판매량을 곱하여 매출을 계산\n",
    "\n",
    "# 매출 컬럼 추가 후 데이터 확인\n",
    "print(\"\\n=== 매출(TotalRevenue) 컬럼 추가 후 데이터 확인 ===\")\n",
    "df_sales.info()  # [Q8] 수정된 데이터 확인"
   ]
  },
  {
   "cell_type": "code",
   "execution_count": 84,
   "metadata": {},
   "outputs": [
    {
     "name": "stdout",
     "output_type": "stream",
     "text": [
      "\n",
      "=== 주요 변수 간 상관관계 분석 ===\n"
     ]
    },
    {
     "data": {
      "text/html": [
       "<div>\n",
       "<style scoped>\n",
       "    .dataframe tbody tr th:only-of-type {\n",
       "        vertical-align: middle;\n",
       "    }\n",
       "\n",
       "    .dataframe tbody tr th {\n",
       "        vertical-align: top;\n",
       "    }\n",
       "\n",
       "    .dataframe thead th {\n",
       "        text-align: right;\n",
       "    }\n",
       "</style>\n",
       "<table border=\"1\" class=\"dataframe\">\n",
       "  <thead>\n",
       "    <tr style=\"text-align: right;\">\n",
       "      <th></th>\n",
       "      <th>Price</th>\n",
       "      <th>SalesVolume</th>\n",
       "      <th>DiscountRate</th>\n",
       "      <th>AdvertisingExpense</th>\n",
       "      <th>TotalRevenue</th>\n",
       "    </tr>\n",
       "  </thead>\n",
       "  <tbody>\n",
       "    <tr>\n",
       "      <th>Price</th>\n",
       "      <td>1.000000</td>\n",
       "      <td>0.001034</td>\n",
       "      <td>-0.035542</td>\n",
       "      <td>-0.045319</td>\n",
       "      <td>0.589349</td>\n",
       "    </tr>\n",
       "    <tr>\n",
       "      <th>SalesVolume</th>\n",
       "      <td>0.001034</td>\n",
       "      <td>1.000000</td>\n",
       "      <td>-0.006243</td>\n",
       "      <td>-0.017337</td>\n",
       "      <td>0.731678</td>\n",
       "    </tr>\n",
       "    <tr>\n",
       "      <th>DiscountRate</th>\n",
       "      <td>-0.035542</td>\n",
       "      <td>-0.006243</td>\n",
       "      <td>1.000000</td>\n",
       "      <td>-0.020842</td>\n",
       "      <td>-0.048199</td>\n",
       "    </tr>\n",
       "    <tr>\n",
       "      <th>AdvertisingExpense</th>\n",
       "      <td>-0.045319</td>\n",
       "      <td>-0.017337</td>\n",
       "      <td>-0.020842</td>\n",
       "      <td>1.000000</td>\n",
       "      <td>-0.051753</td>\n",
       "    </tr>\n",
       "    <tr>\n",
       "      <th>TotalRevenue</th>\n",
       "      <td>0.589349</td>\n",
       "      <td>0.731678</td>\n",
       "      <td>-0.048199</td>\n",
       "      <td>-0.051753</td>\n",
       "      <td>1.000000</td>\n",
       "    </tr>\n",
       "  </tbody>\n",
       "</table>\n",
       "</div>"
      ],
      "text/plain": [
       "                       Price  SalesVolume  DiscountRate  AdvertisingExpense  \\\n",
       "Price               1.000000     0.001034     -0.035542           -0.045319   \n",
       "SalesVolume         0.001034     1.000000     -0.006243           -0.017337   \n",
       "DiscountRate       -0.035542    -0.006243      1.000000           -0.020842   \n",
       "AdvertisingExpense -0.045319    -0.017337     -0.020842            1.000000   \n",
       "TotalRevenue        0.589349     0.731678     -0.048199           -0.051753   \n",
       "\n",
       "                    TotalRevenue  \n",
       "Price                   0.589349  \n",
       "SalesVolume             0.731678  \n",
       "DiscountRate           -0.048199  \n",
       "AdvertisingExpense     -0.051753  \n",
       "TotalRevenue            1.000000  "
      ]
     },
     "execution_count": 84,
     "metadata": {},
     "output_type": "execute_result"
    }
   ],
   "source": [
    "# ===================== 6. 주요 변수 간 상관관계 분석 =====================\n",
    "# 가격, 판매량, 할인율, 광고비, 매출 간의 상관관계 분석\n",
    "correlation_matrix = df_sales[['Price','SalesVolume','DiscountRate','AdvertisingExpense','TotalRevenue']].corr()  # [Q9] 상관관계 분석을 수행할 컬럼 입력\n",
    "\n",
    "# 상관관계 출력\n",
    "print(\"\\n=== 주요 변수 간 상관관계 분석 ===\")\n",
    "correlation_matrix  # [Q10] 상관관계 행렬 출력"
   ]
  },
  {
   "cell_type": "code",
   "execution_count": 85,
   "metadata": {},
   "outputs": [
    {
     "data": {
      "image/png": "[encoded data removed]",
      "text/plain": [
       "<Figure size 800x600 with 2 Axes>"
      ]
     },
     "metadata": {},
     "output_type": "display_data"
    }
   ],
   "source": [
    "# 1) 상관관계 히트맵\n",
    "plt.figure(figsize=(8, 6))\n",
    "sns.heatmap(correlation_matrix, annot=True, cmap=\"coolwarm\", fmt=\".2f\")\n",
    "plt.title(\"주요 변수 간 상관관계 히트맵\")\n",
    "plt.show()"
   ]
  },
  {
   "cell_type": "code",
   "execution_count": 86,
   "metadata": {},
   "outputs": [
    {
     "name": "stdout",
     "output_type": "stream",
     "text": [
      "\n",
      "=== 제품별 평균 판매량 상위 10개 ===\n"
     ]
    },
    {
     "data": {
      "text/html": [
       "<div>\n",
       "<style scoped>\n",
       "    .dataframe tbody tr th:only-of-type {\n",
       "        vertical-align: middle;\n",
       "    }\n",
       "\n",
       "    .dataframe tbody tr th {\n",
       "        vertical-align: top;\n",
       "    }\n",
       "\n",
       "    .dataframe thead th {\n",
       "        text-align: right;\n",
       "    }\n",
       "</style>\n",
       "<table border=\"1\" class=\"dataframe\">\n",
       "  <thead>\n",
       "    <tr style=\"text-align: right;\">\n",
       "      <th></th>\n",
       "      <th>ProductID</th>\n",
       "      <th>SalesVolume</th>\n",
       "    </tr>\n",
       "  </thead>\n",
       "  <tbody>\n",
       "    <tr>\n",
       "      <th>999</th>\n",
       "      <td>1000</td>\n",
       "      <td>477.0</td>\n",
       "    </tr>\n",
       "    <tr>\n",
       "      <th>998</th>\n",
       "      <td>999</td>\n",
       "      <td>17.0</td>\n",
       "    </tr>\n",
       "    <tr>\n",
       "      <th>997</th>\n",
       "      <td>998</td>\n",
       "      <td>69.0</td>\n",
       "    </tr>\n",
       "    <tr>\n",
       "      <th>996</th>\n",
       "      <td>997</td>\n",
       "      <td>159.0</td>\n",
       "    </tr>\n",
       "    <tr>\n",
       "      <th>995</th>\n",
       "      <td>996</td>\n",
       "      <td>7.0</td>\n",
       "    </tr>\n",
       "    <tr>\n",
       "      <th>994</th>\n",
       "      <td>995</td>\n",
       "      <td>419.0</td>\n",
       "    </tr>\n",
       "    <tr>\n",
       "      <th>993</th>\n",
       "      <td>994</td>\n",
       "      <td>110.0</td>\n",
       "    </tr>\n",
       "    <tr>\n",
       "      <th>992</th>\n",
       "      <td>993</td>\n",
       "      <td>315.0</td>\n",
       "    </tr>\n",
       "    <tr>\n",
       "      <th>991</th>\n",
       "      <td>992</td>\n",
       "      <td>373.0</td>\n",
       "    </tr>\n",
       "    <tr>\n",
       "      <th>990</th>\n",
       "      <td>991</td>\n",
       "      <td>425.0</td>\n",
       "    </tr>\n",
       "  </tbody>\n",
       "</table>\n",
       "</div>"
      ],
      "text/plain": [
       "     ProductID  SalesVolume\n",
       "999       1000        477.0\n",
       "998        999         17.0\n",
       "997        998         69.0\n",
       "996        997        159.0\n",
       "995        996          7.0\n",
       "994        995        419.0\n",
       "993        994        110.0\n",
       "992        993        315.0\n",
       "991        992        373.0\n",
       "990        991        425.0"
      ]
     },
     "execution_count": 86,
     "metadata": {},
     "output_type": "execute_result"
    }
   ],
   "source": [
    "# ===================== 7. 데이터 분석 =====================\n",
    "\n",
    "# 1) 제품별 평균 판매량 분석\n",
    "df_avg_sales = df_sales.groupby('ProductID')['SalesVolume'].mean().reset_index()  # [Q11] 그룹화할 컬럼과 평균을 낼 컬럼 입력\n",
    "df_avg_sales = df_avg_sales.sort_values(by='ProductID', ascending=False)  # [Q12] 정렬할 기준 컬럼 입력\n",
    "\n",
    "print(\"\\n=== 제품별 평균 판매량 상위 10개 ===\")\n",
    "df_avg_sales.head(10)"
   ]
  },
  {
   "cell_type": "code",
   "execution_count": 87,
   "metadata": {},
   "outputs": [
    {
     "data": {
      "image/png": "[encoded data removed]",
      "text/plain": [
       "<Figure size 1000x500 with 1 Axes>"
      ]
     },
     "metadata": {},
     "output_type": "display_data"
    },
    {
     "name": "stdout",
     "output_type": "stream",
     "text": [
      "\n",
      "=== 할인율이 높은 제품 10개 ===\n",
      "764     44\n",
      "748    342\n",
      "464    425\n",
      "393    443\n",
      "56     183\n",
      "847    407\n",
      "722     33\n",
      "227    247\n",
      "890     41\n",
      "346    487\n",
      "Name: SalesVolume, dtype: int64\n",
      "\n",
      "=== 할인율이 낮은 제품 10개 ===\n",
      "896    439\n",
      "687    232\n",
      "388    258\n",
      "158    316\n",
      "758    322\n",
      "769    106\n",
      "632    254\n",
      "684    360\n",
      "317    487\n",
      "883    397\n",
      "Name: SalesVolume, dtype: int64\n"
     ]
    }
   ],
   "source": [
    "# 2) 제품별 평균 판매량 시각화 \n",
    "plt.figure(figsize=(10, 5))\n",
    "sns.barplot(x=df_avg_sales[\"ProductID\"][:10], y=df_avg_sales[\"SalesVolume\"][:10], palette=\"Blues\")\n",
    "plt.title(\"제품별 평균 판매량 (상위 10개)\")\n",
    "plt.xlabel(\"제품 ID\")\n",
    "plt.ylabel(\"평균 판매량\")\n",
    "plt.xticks(rotation=45)\n",
    "plt.show()\n",
    "\n",
    "# 2) 할인율이 높은 제품과 낮은 제품 비교\n",
    "# nlargest(n, column_name): 특정 열(column_name)의 값이 가장 높은 상위 n개의 데이터를 반환\n",
    "df_high_discount = df_sales.nlargest(10, \"DiscountRate\")['SalesVolume']  # [Q13] 필요한 컬럼 선택\n",
    "# nsmallest(n, column_name): 특정 열(column_name)의 값이 가장 낮은 하위 n개의 데이터를 반환\n",
    "df_low_discount = df_sales.nsmallest(10, \"DiscountRate\")['SalesVolume']  # [Q14] 필요한 컬럼 선택\n",
    "\n",
    "print(\"\\n=== 할인율이 높은 제품 10개 ===\")\n",
    "print(df_high_discount)\n",
    "\n",
    "print(\"\\n=== 할인율이 낮은 제품 10개 ===\")\n",
    "print(df_low_discount)"
   ]
  },
  {
   "cell_type": "code",
   "execution_count": 88,
   "metadata": {},
   "outputs": [
    {
     "data": {
      "image/png": "[encoded data removed]",
      "text/plain": [
       "<Figure size 800x500 with 1 Axes>"
      ]
     },
     "metadata": {},
     "output_type": "display_data"
    },
    {
     "name": "stdout",
     "output_type": "stream",
     "text": [
      "\n",
      "=== 광고비가 높은 제품 10개 ===\n",
      "227    247\n",
      "403     34\n",
      "330    287\n",
      "927    278\n",
      "391    313\n",
      "657    113\n",
      "55     308\n",
      "440    393\n",
      "70     423\n",
      "290     96\n",
      "Name: SalesVolume, dtype: int64\n",
      "\n",
      "=== 광고비가 낮은 제품 10개 ===\n",
      "633    104\n",
      "678    149\n",
      "200    183\n",
      "729    198\n",
      "415    265\n",
      "443    294\n",
      "457     84\n",
      "177    458\n",
      "216    147\n",
      "744    459\n",
      "Name: SalesVolume, dtype: int64\n"
     ]
    }
   ],
   "source": [
    "# 3) 할인율과 판매량 관계 \n",
    "plt.figure(figsize=(8, 5))\n",
    "sns.scatterplot(x=\"DiscountRate\", y=\"SalesVolume\", data=df_sales, alpha=0.6, color=\"green\")\n",
    "plt.title(\"할인율 vs 판매량\")\n",
    "plt.xlabel(\"할인율\")\n",
    "plt.ylabel(\"판매량\")\n",
    "plt.show()\n",
    "\n",
    "# 3) 광고비가 높은 제품과 낮은 제품 비교\n",
    "df_high_ad = df_sales.nlargest(10, \"AdvertisingExpense\")['SalesVolume']  # [Q15] 필요한 컬럼 선택\n",
    "df_low_ad = df_sales.nsmallest(10, \"AdvertisingExpense\")['SalesVolume']  # [Q16] 필요한 컬럼 선택\n",
    "\n",
    "print(\"\\n=== 광고비가 높은 제품 10개 ===\")\n",
    "print(df_high_ad)\n",
    "\n",
    "print(\"\\n=== 광고비가 낮은 제품 10개 ===\")\n",
    "print(df_low_ad)"
   ]
  },
  {
   "cell_type": "code",
   "execution_count": 95,
   "metadata": {},
   "outputs": [
    {
     "data": {
      "image/png": "[encoded data removed]",
      "text/plain": [
       "<Figure size 800x500 with 1 Axes>"
      ]
     },
     "metadata": {},
     "output_type": "display_data"
    },
    {
     "name": "stdout",
     "output_type": "stream",
     "text": [
      "\n",
      "=== 매출 상위 10개 제품 ===\n",
      "     ProductID  TotalRevenue\n",
      "614        615         46942\n",
      "103        104         45496\n",
      "346        347         45291\n",
      "20          21         45024\n",
      "299        300         44256\n",
      "383        384         43966\n",
      "561        562         43343\n",
      "525        526         43120\n",
      "597        598         42018\n",
      "699        700         41664\n"
     ]
    }
   ],
   "source": [
    "# 4) 광고비와 판매량 관계 \n",
    "plt.figure(figsize=(8, 5))\n",
    "sns.scatterplot(x=\"AdvertisingExpense\", y=\"SalesVolume\", data=df_sales, alpha=0.6, color=\"red\")\n",
    "plt.title(\"광고비 vs 판매량\")\n",
    "plt.xlabel(\"광고 비용\")\n",
    "plt.ylabel(\"판매량\")\n",
    "plt.show()\n",
    "\n",
    "# 4) 매출 상위 10개 제품 분석\n",
    "df_top_revenue = df_sales.nlargest(10, \"TotalRevenue\")[['ProductID','TotalRevenue']]  # [Q17] 필요한 컬럼 선택\n",
    "\n",
    "print(\"\\n=== 매출 상위 10개 제품 ===\")\n",
    "print(df_top_revenue)"
   ]
  },
  {
   "cell_type": "code",
   "execution_count": 97,
   "metadata": {},
   "outputs": [
    {
     "data": {
      "image/png": "[encoded data removed]",
      "text/plain": [
       "<Figure size 1000x500 with 1 Axes>"
      ]
     },
     "metadata": {},
     "output_type": "display_data"
    }
   ],
   "source": [
    "# 5) 매출 상위 10개 제품 분석 \n",
    "plt.figure(figsize=(10, 5))\n",
    "sns.barplot(x=df_top_revenue[\"ProductID\"], y=df_top_revenue[\"TotalRevenue\"], palette=\"viridis\")\n",
    "plt.title(\"매출 상위 10개 제품\")\n",
    "plt.xlabel(\"제품 ID\")\n",
    "plt.ylabel(\"총 매출\")\n",
    "plt.xticks(rotation=45)\n",
    "plt.show()"
   ]
  }
 ],
 "metadata": {
  "kernelspec": {
   "display_name": "Python 3",
   "language": "python",
   "name": "python3"
  },
  "language_info": {
   "codemirror_mode": {
    "name": "ipython",
    "version": 3
   },
   "file_extension": ".py",
   "mimetype": "text/x-python",
   "name": "python",
   "nbconvert_exporter": "python",
   "pygments_lexer": "ipython3",
   "version": "3.9.13"
  }
 },
 "nbformat": 4,
 "nbformat_minor": 2
}
