{
 "cells": [
  {
   "cell_type": "code",
   "execution_count": 1,
   "metadata": {
    "id": "TGYOdfQwhXH_"
   },
   "outputs": [],
   "source": [
    "# !sudo apt-get install -y fonts-nanum\n",
    "# !sudo fc-cache -fv\n",
    "# !rm ~/.cache/matplotlib -rf"
   ]
  },
  {
   "cell_type": "code",
   "execution_count": 2,
   "metadata": {
    "executionInfo": {
     "elapsed": 2336,
     "status": "ok",
     "timestamp": 1742152257324,
     "user": {
      "displayName": "하루",
      "userId": "01695523458266979897"
     },
     "user_tz": -540
    },
    "id": "93ufQDMtXGGl"
   },
   "outputs": [],
   "source": [
    "import matplotlib.pyplot as plt\n",
    "import seaborn as sns\n",
    "import warnings\n",
    "warnings.simplefilter(action='ignore', category=FutureWarning)"
   ]
  },
  {
   "cell_type": "code",
   "execution_count": 3,
   "metadata": {
    "executionInfo": {
     "elapsed": 37,
     "status": "ok",
     "timestamp": 1742152273225,
     "user": {
      "displayName": "하루",
      "userId": "01695523458266979897"
     },
     "user_tz": -540
    },
    "id": "7xqABmedXa-G"
   },
   "outputs": [],
   "source": [
    "titanic_origin = sns.load_dataset(\"titanic\")"
   ]
  },
  {
   "cell_type": "code",
   "execution_count": 4,
   "metadata": {
    "colab": {
     "base_uri": "https://localhost:8080/",
     "height": 206
    },
    "executionInfo": {
     "elapsed": 199,
     "status": "ok",
     "timestamp": 1742152277874,
     "user": {
      "displayName": "하루",
      "userId": "01695523458266979897"
     },
     "user_tz": -540
    },
    "id": "_1F0TM_yXa7n",
    "outputId": "548c803b-4890-4eee-c7f5-7b303bf6f148"
   },
   "outputs": [
    {
     "data": {
      "text/html": [
       "<div>\n",
       "<style scoped>\n",
       "    .dataframe tbody tr th:only-of-type {\n",
       "        vertical-align: middle;\n",
       "    }\n",
       "\n",
       "    .dataframe tbody tr th {\n",
       "        vertical-align: top;\n",
       "    }\n",
       "\n",
       "    .dataframe thead th {\n",
       "        text-align: right;\n",
       "    }\n",
       "</style>\n",
       "<table border=\"1\" class=\"dataframe\">\n",
       "  <thead>\n",
       "    <tr style=\"text-align: right;\">\n",
       "      <th></th>\n",
       "      <th>survived</th>\n",
       "      <th>pclass</th>\n",
       "      <th>sex</th>\n",
       "      <th>age</th>\n",
       "      <th>sibsp</th>\n",
       "      <th>parch</th>\n",
       "      <th>fare</th>\n",
       "      <th>embarked</th>\n",
       "      <th>class</th>\n",
       "      <th>who</th>\n",
       "      <th>adult_male</th>\n",
       "      <th>deck</th>\n",
       "      <th>embark_town</th>\n",
       "      <th>alive</th>\n",
       "      <th>alone</th>\n",
       "    </tr>\n",
       "  </thead>\n",
       "  <tbody>\n",
       "    <tr>\n",
       "      <th>0</th>\n",
       "      <td>0</td>\n",
       "      <td>3</td>\n",
       "      <td>male</td>\n",
       "      <td>22.0</td>\n",
       "      <td>1</td>\n",
       "      <td>0</td>\n",
       "      <td>7.2500</td>\n",
       "      <td>S</td>\n",
       "      <td>Third</td>\n",
       "      <td>man</td>\n",
       "      <td>True</td>\n",
       "      <td>NaN</td>\n",
       "      <td>Southampton</td>\n",
       "      <td>no</td>\n",
       "      <td>False</td>\n",
       "    </tr>\n",
       "    <tr>\n",
       "      <th>1</th>\n",
       "      <td>1</td>\n",
       "      <td>1</td>\n",
       "      <td>female</td>\n",
       "      <td>38.0</td>\n",
       "      <td>1</td>\n",
       "      <td>0</td>\n",
       "      <td>71.2833</td>\n",
       "      <td>C</td>\n",
       "      <td>First</td>\n",
       "      <td>woman</td>\n",
       "      <td>False</td>\n",
       "      <td>C</td>\n",
       "      <td>Cherbourg</td>\n",
       "      <td>yes</td>\n",
       "      <td>False</td>\n",
       "    </tr>\n",
       "    <tr>\n",
       "      <th>2</th>\n",
       "      <td>1</td>\n",
       "      <td>3</td>\n",
       "      <td>female</td>\n",
       "      <td>26.0</td>\n",
       "      <td>0</td>\n",
       "      <td>0</td>\n",
       "      <td>7.9250</td>\n",
       "      <td>S</td>\n",
       "      <td>Third</td>\n",
       "      <td>woman</td>\n",
       "      <td>False</td>\n",
       "      <td>NaN</td>\n",
       "      <td>Southampton</td>\n",
       "      <td>yes</td>\n",
       "      <td>True</td>\n",
       "    </tr>\n",
       "    <tr>\n",
       "      <th>3</th>\n",
       "      <td>1</td>\n",
       "      <td>1</td>\n",
       "      <td>female</td>\n",
       "      <td>35.0</td>\n",
       "      <td>1</td>\n",
       "      <td>0</td>\n",
       "      <td>53.1000</td>\n",
       "      <td>S</td>\n",
       "      <td>First</td>\n",
       "      <td>woman</td>\n",
       "      <td>False</td>\n",
       "      <td>C</td>\n",
       "      <td>Southampton</td>\n",
       "      <td>yes</td>\n",
       "      <td>False</td>\n",
       "    </tr>\n",
       "    <tr>\n",
       "      <th>4</th>\n",
       "      <td>0</td>\n",
       "      <td>3</td>\n",
       "      <td>male</td>\n",
       "      <td>35.0</td>\n",
       "      <td>0</td>\n",
       "      <td>0</td>\n",
       "      <td>8.0500</td>\n",
       "      <td>S</td>\n",
       "      <td>Third</td>\n",
       "      <td>man</td>\n",
       "      <td>True</td>\n",
       "      <td>NaN</td>\n",
       "      <td>Southampton</td>\n",
       "      <td>no</td>\n",
       "      <td>True</td>\n",
       "    </tr>\n",
       "  </tbody>\n",
       "</table>\n",
       "</div>"
      ],
      "text/plain": [
       "   survived  pclass     sex   age  sibsp  parch     fare embarked  class  \\\n",
       "0         0       3    male  22.0      1      0   7.2500        S  Third   \n",
       "1         1       1  female  38.0      1      0  71.2833        C  First   \n",
       "2         1       3  female  26.0      0      0   7.9250        S  Third   \n",
       "3         1       1  female  35.0      1      0  53.1000        S  First   \n",
       "4         0       3    male  35.0      0      0   8.0500        S  Third   \n",
       "\n",
       "     who  adult_male deck  embark_town alive  alone  \n",
       "0    man        True  NaN  Southampton    no  False  \n",
       "1  woman       False    C    Cherbourg   yes  False  \n",
       "2  woman       False  NaN  Southampton   yes   True  \n",
       "3  woman       False    C  Southampton   yes  False  \n",
       "4    man        True  NaN  Southampton    no   True  "
      ]
     },
     "execution_count": 4,
     "metadata": {},
     "output_type": "execute_result"
    }
   ],
   "source": [
    "titanic_origin.head()"
   ]
  },
  {
   "cell_type": "code",
   "execution_count": 5,
   "metadata": {
    "colab": {
     "base_uri": "https://localhost:8080/",
     "height": 554
    },
    "executionInfo": {
     "elapsed": 21,
     "status": "ok",
     "timestamp": 1742152300002,
     "user": {
      "displayName": "하루",
      "userId": "01695523458266979897"
     },
     "user_tz": -540
    },
    "id": "rfEE3iukXijh",
    "outputId": "581a1a37-58d9-473d-bc50-932140c2b2ce"
   },
   "outputs": [
    {
     "data": {
      "text/plain": [
       "survived         0\n",
       "pclass           0\n",
       "sex              0\n",
       "age            177\n",
       "sibsp            0\n",
       "parch            0\n",
       "fare             0\n",
       "embarked         2\n",
       "class            0\n",
       "who              0\n",
       "adult_male       0\n",
       "deck           688\n",
       "embark_town      2\n",
       "alive            0\n",
       "alone            0\n",
       "dtype: int64"
      ]
     },
     "execution_count": 5,
     "metadata": {},
     "output_type": "execute_result"
    }
   ],
   "source": [
    "titanic_origin.isna().sum()"
   ]
  },
  {
   "cell_type": "code",
   "execution_count": 6,
   "metadata": {
    "executionInfo": {
     "elapsed": 4,
     "status": "ok",
     "timestamp": 1742152320890,
     "user": {
      "displayName": "하루",
      "userId": "01695523458266979897"
     },
     "user_tz": -540
    },
    "id": "SgvuQi2PXihD"
   },
   "outputs": [],
   "source": [
    "titanic = titanic_origin.dropna()"
   ]
  },
  {
   "cell_type": "code",
   "execution_count": 7,
   "metadata": {
    "colab": {
     "base_uri": "https://localhost:8080/",
     "height": 554
    },
    "executionInfo": {
     "elapsed": 5,
     "status": "ok",
     "timestamp": 1742152329184,
     "user": {
      "displayName": "하루",
      "userId": "01695523458266979897"
     },
     "user_tz": -540
    },
    "id": "ph0Hnod4Xa2L",
    "outputId": "81bee102-04e9-44e5-b769-a7536449505d"
   },
   "outputs": [
    {
     "data": {
      "text/plain": [
       "survived       0\n",
       "pclass         0\n",
       "sex            0\n",
       "age            0\n",
       "sibsp          0\n",
       "parch          0\n",
       "fare           0\n",
       "embarked       0\n",
       "class          0\n",
       "who            0\n",
       "adult_male     0\n",
       "deck           0\n",
       "embark_town    0\n",
       "alive          0\n",
       "alone          0\n",
       "dtype: int64"
      ]
     },
     "execution_count": 7,
     "metadata": {},
     "output_type": "execute_result"
    }
   ],
   "source": [
    "titanic.isna().sum()"
   ]
  },
  {
   "cell_type": "code",
   "execution_count": 8,
   "metadata": {
    "colab": {
     "base_uri": "https://localhost:8080/"
    },
    "executionInfo": {
     "elapsed": 25,
     "status": "ok",
     "timestamp": 1742152418989,
     "user": {
      "displayName": "하루",
      "userId": "01695523458266979897"
     },
     "user_tz": -540
    },
    "id": "PsVs1yNKX3jg",
    "outputId": "cf588613-5a1e-4788-a402-83b03cfcaf55"
   },
   "outputs": [
    {
     "name": "stdout",
     "output_type": "stream",
     "text": [
      "원래 전체 생존률: 0.384\n",
      "나이가 없는 승객 제외 후 생존률: 0.676\n"
     ]
    }
   ],
   "source": [
    "original_survival_rate = titanic_origin['survived'].mean()\n",
    "new_survival_rate = titanic['survived'].mean()\n",
    "\n",
    "print(f\"원래 전체 생존률: {original_survival_rate:.3f}\")\n",
    "print(f\"나이가 없는 승객 제외 후 생존률: {new_survival_rate:.3f}\")\n"
   ]
  },
  {
   "cell_type": "code",
   "execution_count": 12,
   "metadata": {
    "colab": {
     "base_uri": "https://localhost:8080/",
     "height": 738
    },
    "executionInfo": {
     "elapsed": 753,
     "status": "ok",
     "timestamp": 1742152551754,
     "user": {
      "displayName": "하루",
      "userId": "01695523458266979897"
     },
     "user_tz": -540
    },
    "id": "qcHh8BhPVTJ9",
    "outputId": "d0e7b905-0699-4ee5-abe1-7aa1429c61f2"
   },
   "outputs": [
    {
     "name": "stdout",
     "output_type": "stream",
     "text": [
      "Overall Survival Rate: 0.68\n",
      "class\n",
      "First     0.675159\n",
      "Second    0.800000\n",
      "Third     0.500000\n",
      "Name: survived, dtype: float64\n"
     ]
    },
    {
     "data": {
      "image/png": "[encoded data removed]",
      "text/plain": [
       "<Figure size 800x500 with 1 Axes>"
      ]
     },
     "metadata": {},
     "output_type": "display_data"
    }
   ],
   "source": [
    "# 전체 승객의 평균 생존율 계산\n",
    "overall_survival_rate = titanic[\"survived\"].mean()\n",
    "\n",
    "# 각 등급별 생존율 계산\n",
    "survival_rates_by_class = titanic.groupby(\"class\")[\"survived\"].mean()\n",
    "\n",
    "# 생존율 출력\n",
    "print(f\"Overall Survival Rate: {overall_survival_rate:.2f}\")\n",
    "print(survival_rates_by_class)\n",
    "\n",
    "# 시각화: 좌석 등급별 생존율 막대 그래프\n",
    "plt.figure(figsize=(8,5))\n",
    "sns.barplot(x=survival_rates_by_class.index, y=survival_rates_by_class.values, palette=\"coolwarm\")\n",
    "plt.axhline(overall_survival_rate, color='black', linestyle='dashed', label=\"Overall Survival Rate\")\n",
    "plt.title(\"Survival Rate by Class\")\n",
    "plt.ylabel(\"Survival Rate\")\n",
    "plt.legend()\n",
    "plt.show()\n"
   ]
  },
  {
   "cell_type": "code",
   "execution_count": 16,
   "metadata": {
    "colab": {
     "base_uri": "https://localhost:8080/",
     "height": 738
    },
    "executionInfo": {
     "elapsed": 288,
     "status": "ok",
     "timestamp": 1742152598301,
     "user": {
      "displayName": "하루",
      "userId": "01695523458266979897"
     },
     "user_tz": -540
    },
    "id": "IewXlfL9XGGq",
    "outputId": "9e848f91-8768-4c37-ccda-1dbde2675664"
   },
   "outputs": [
    {
     "name": "stdout",
     "output_type": "stream",
     "text": [
      "Overall Survival Rate: 0.68\n",
      "class\n",
      "First     0.629630\n",
      "Second    0.472826\n",
      "Third     0.242363\n",
      "Name: survived, dtype: float64\n"
     ]
    },
    {
     "data": {
      "image/png": "[encoded data removed]",
      "text/plain": [
       "<Figure size 800x500 with 1 Axes>"
      ]
     },
     "metadata": {},
     "output_type": "display_data"
    }
   ],
   "source": [
    "\n",
    "# 각 등급별 생존율 계산\n",
    "survival_rates_by_class = titanic_origin.groupby(\"class\")[\"survived\"].mean()\n",
    "\n",
    "# 생존율 출력\n",
    "print(f\"Overall Survival Rate: {overall_survival_rate:.2f}\")\n",
    "print(survival_rates_by_class)\n",
    "\n",
    "# 시각화: 좌석 등급별 생존율 막대 그래프\n",
    "plt.figure(figsize=(8,5))\n",
    "sns.barplot(x=survival_rates_by_class.index, y=survival_rates_by_class.values, palette=\"coolwarm\")\n",
    "plt.axhline(overall_survival_rate, color='black', linestyle='dashed', label=\"Overall Survival Rate\")\n",
    "plt.title(\"Survival Rate by Class\")\n",
    "plt.ylabel(\"Survival Rate\")\n",
    "plt.legend()\n",
    "plt.show()"
   ]
  }
 ],
 "metadata": {
  "accelerator": "GPU",
  "colab": {
   "gpuType": "T4",
   "provenance": []
  },
  "kernelspec": {
   "display_name": "base",
   "language": "python",
   "name": "python3"
  },
  "language_info": {
   "codemirror_mode": {
    "name": "ipython",
    "version": 3
   },
   "file_extension": ".py",
   "mimetype": "text/x-python",
   "name": "python",
   "nbconvert_exporter": "python",
   "pygments_lexer": "ipython3",
   "version": "3.11.7"
  }
 },
 "nbformat": 4,
 "nbformat_minor": 0
}
