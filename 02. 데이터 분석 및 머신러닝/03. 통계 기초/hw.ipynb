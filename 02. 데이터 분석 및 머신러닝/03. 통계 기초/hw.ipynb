{
 "cells": [
  {
   "cell_type": "markdown",
   "metadata": {},
   "source": [
    "## hw_3_2"
   ]
  },
  {
   "cell_type": "code",
   "execution_count": 2,
   "metadata": {},
   "outputs": [
    {
     "data": {
      "text/html": [
       "<div>\n",
       "<style scoped>\n",
       "    .dataframe tbody tr th:only-of-type {\n",
       "        vertical-align: middle;\n",
       "    }\n",
       "\n",
       "    .dataframe tbody tr th {\n",
       "        vertical-align: top;\n",
       "    }\n",
       "\n",
       "    .dataframe thead th {\n",
       "        text-align: right;\n",
       "    }\n",
       "</style>\n",
       "<table border=\"1\" class=\"dataframe\">\n",
       "  <thead>\n",
       "    <tr style=\"text-align: right;\">\n",
       "      <th></th>\n",
       "      <th>category</th>\n",
       "      <th>value</th>\n",
       "    </tr>\n",
       "  </thead>\n",
       "  <tbody>\n",
       "    <tr>\n",
       "      <th>0</th>\n",
       "      <td>C</td>\n",
       "      <td>23.692333</td>\n",
       "    </tr>\n",
       "    <tr>\n",
       "      <th>1</th>\n",
       "      <td>D</td>\n",
       "      <td>20.856841</td>\n",
       "    </tr>\n",
       "    <tr>\n",
       "      <th>2</th>\n",
       "      <td>A</td>\n",
       "      <td>19.421759</td>\n",
       "    </tr>\n",
       "    <tr>\n",
       "      <th>3</th>\n",
       "      <td>C</td>\n",
       "      <td>18.494482</td>\n",
       "    </tr>\n",
       "    <tr>\n",
       "      <th>4</th>\n",
       "      <td>C</td>\n",
       "      <td>12.607390</td>\n",
       "    </tr>\n",
       "    <tr>\n",
       "      <th>...</th>\n",
       "      <td>...</td>\n",
       "      <td>...</td>\n",
       "    </tr>\n",
       "    <tr>\n",
       "      <th>95</th>\n",
       "      <td>B</td>\n",
       "      <td>27.749672</td>\n",
       "    </tr>\n",
       "    <tr>\n",
       "      <th>96</th>\n",
       "      <td>B</td>\n",
       "      <td>16.083734</td>\n",
       "    </tr>\n",
       "    <tr>\n",
       "      <th>97</th>\n",
       "      <td>D</td>\n",
       "      <td>18.389692</td>\n",
       "    </tr>\n",
       "    <tr>\n",
       "      <th>98</th>\n",
       "      <td>B</td>\n",
       "      <td>24.067586</td>\n",
       "    </tr>\n",
       "    <tr>\n",
       "      <th>99</th>\n",
       "      <td>A</td>\n",
       "      <td>13.845678</td>\n",
       "    </tr>\n",
       "  </tbody>\n",
       "</table>\n",
       "<p>100 rows × 2 columns</p>\n",
       "</div>"
      ],
      "text/plain": [
       "   category      value\n",
       "0         C  23.692333\n",
       "1         D  20.856841\n",
       "2         A  19.421759\n",
       "3         C  18.494482\n",
       "4         C  12.607390\n",
       "..      ...        ...\n",
       "95        B  27.749672\n",
       "96        B  16.083734\n",
       "97        D  18.389692\n",
       "98        B  24.067586\n",
       "99        A  13.845678\n",
       "\n",
       "[100 rows x 2 columns]"
      ]
     },
     "execution_count": 2,
     "metadata": {},
     "output_type": "execute_result"
    }
   ],
   "source": [
    "import pandas as pd\n",
    "\n",
    "# 데이터 로드\n",
    "file_path = pd.read_csv('data/group_data.csv')\n",
    "data = file_path.copy()\n",
    "data"
   ]
  },
  {
   "cell_type": "code",
   "execution_count": 5,
   "metadata": {},
   "outputs": [
    {
     "name": "stdout",
     "output_type": "stream",
     "text": [
      "조건에 맞는 데이터의 개수: 51\n"
     ]
    },
    {
     "data": {
      "text/html": [
       "<div>\n",
       "<style scoped>\n",
       "    .dataframe tbody tr th:only-of-type {\n",
       "        vertical-align: middle;\n",
       "    }\n",
       "\n",
       "    .dataframe tbody tr th {\n",
       "        vertical-align: top;\n",
       "    }\n",
       "\n",
       "    .dataframe thead th {\n",
       "        text-align: right;\n",
       "    }\n",
       "</style>\n",
       "<table border=\"1\" class=\"dataframe\">\n",
       "  <thead>\n",
       "    <tr style=\"text-align: right;\">\n",
       "      <th></th>\n",
       "      <th>category</th>\n",
       "      <th>value</th>\n",
       "    </tr>\n",
       "  </thead>\n",
       "  <tbody>\n",
       "    <tr>\n",
       "      <th>2</th>\n",
       "      <td>A</td>\n",
       "      <td>19.421759</td>\n",
       "    </tr>\n",
       "    <tr>\n",
       "      <th>3</th>\n",
       "      <td>C</td>\n",
       "      <td>18.494482</td>\n",
       "    </tr>\n",
       "    <tr>\n",
       "      <th>4</th>\n",
       "      <td>C</td>\n",
       "      <td>12.607390</td>\n",
       "    </tr>\n",
       "    <tr>\n",
       "      <th>5</th>\n",
       "      <td>D</td>\n",
       "      <td>16.400779</td>\n",
       "    </tr>\n",
       "    <tr>\n",
       "      <th>6</th>\n",
       "      <td>A</td>\n",
       "      <td>17.696806</td>\n",
       "    </tr>\n",
       "  </tbody>\n",
       "</table>\n",
       "</div>"
      ],
      "text/plain": [
       "  category      value\n",
       "2        A  19.421759\n",
       "3        C  18.494482\n",
       "4        C  12.607390\n",
       "5        D  16.400779\n",
       "6        A  17.696806"
      ]
     },
     "execution_count": 5,
     "metadata": {},
     "output_type": "execute_result"
    }
   ],
   "source": [
    "# 특정 조건을 만족하는 데이터 필터링\n",
    "# and를 사용하면 오류 발생 => & 사용해야 함\n",
    "filtered_data = data.loc[(data['value']>=10) & (data['value']<=20)]\n",
    "print(f'조건에 맞는 데이터의 개수: {len(filtered_data)}')\n",
    "filtered_data.head()"
   ]
  },
  {
   "cell_type": "code",
   "execution_count": 7,
   "metadata": {},
   "outputs": [
    {
     "data": {
      "text/plain": [
       "category\n",
       "A    17.784972\n",
       "B    16.065752\n",
       "C    16.299848\n",
       "D    16.249271\n",
       "Name: value, dtype: float64"
      ]
     },
     "execution_count": 7,
     "metadata": {},
     "output_type": "execute_result"
    }
   ],
   "source": [
    "# 특정 열을 기준으로 그룹화하고, 그룹별 평균값 계산\n",
    "grouped_mean = filtered_data.groupby('category')['value'].mean()\n",
    "grouped_mean"
   ]
  },
  {
   "cell_type": "code",
   "execution_count": 4,
   "metadata": {},
   "outputs": [
    {
     "data": {
      "text/plain": [
       "category\n",
       "A    17.784972\n",
       "C    16.299848\n",
       "D    16.249271\n",
       "B    16.065752\n",
       "Name: value, dtype: float64"
      ]
     },
     "execution_count": 4,
     "metadata": {},
     "output_type": "execute_result"
    }
   ],
   "source": [
    "# 평균값을 내림차순으로 정렬하여 출력\n",
    "sorted_grouped_mean = grouped_mean.sort_values(ascending=False)\n",
    "sorted_grouped_mean"
   ]
  },
  {
   "cell_type": "markdown",
   "metadata": {},
   "source": [
    "## hw_3_4"
   ]
  },
  {
   "cell_type": "code",
   "execution_count": 8,
   "metadata": {},
   "outputs": [
    {
     "data": {
      "text/html": [
       "<div>\n",
       "<style scoped>\n",
       "    .dataframe tbody tr th:only-of-type {\n",
       "        vertical-align: middle;\n",
       "    }\n",
       "\n",
       "    .dataframe tbody tr th {\n",
       "        vertical-align: top;\n",
       "    }\n",
       "\n",
       "    .dataframe thead th {\n",
       "        text-align: right;\n",
       "    }\n",
       "</style>\n",
       "<table border=\"1\" class=\"dataframe\">\n",
       "  <thead>\n",
       "    <tr style=\"text-align: right;\">\n",
       "      <th></th>\n",
       "      <th>Date</th>\n",
       "      <th>value</th>\n",
       "    </tr>\n",
       "  </thead>\n",
       "  <tbody>\n",
       "    <tr>\n",
       "      <th>0</th>\n",
       "      <td>2023-01-01</td>\n",
       "      <td>52.274599</td>\n",
       "    </tr>\n",
       "    <tr>\n",
       "      <th>1</th>\n",
       "      <td>2023-01-02</td>\n",
       "      <td>63.071428</td>\n",
       "    </tr>\n",
       "    <tr>\n",
       "      <th>2</th>\n",
       "      <td>2023-01-03</td>\n",
       "      <td>33.925168</td>\n",
       "    </tr>\n",
       "    <tr>\n",
       "      <th>3</th>\n",
       "      <td>2023-01-04</td>\n",
       "      <td>51.846339</td>\n",
       "    </tr>\n",
       "    <tr>\n",
       "      <th>4</th>\n",
       "      <td>2023-01-05</td>\n",
       "      <td>52.598828</td>\n",
       "    </tr>\n",
       "    <tr>\n",
       "      <th>...</th>\n",
       "      <td>...</td>\n",
       "      <td>...</td>\n",
       "    </tr>\n",
       "    <tr>\n",
       "      <th>360</th>\n",
       "      <td>2023-12-27</td>\n",
       "      <td>59.261775</td>\n",
       "    </tr>\n",
       "    <tr>\n",
       "      <th>361</th>\n",
       "      <td>2023-12-28</td>\n",
       "      <td>69.094166</td>\n",
       "    </tr>\n",
       "    <tr>\n",
       "      <th>362</th>\n",
       "      <td>2023-12-29</td>\n",
       "      <td>36.014324</td>\n",
       "    </tr>\n",
       "    <tr>\n",
       "      <th>363</th>\n",
       "      <td>2023-12-30</td>\n",
       "      <td>55.629692</td>\n",
       "    </tr>\n",
       "    <tr>\n",
       "      <th>364</th>\n",
       "      <td>2023-12-31</td>\n",
       "      <td>43.493574</td>\n",
       "    </tr>\n",
       "  </tbody>\n",
       "</table>\n",
       "<p>365 rows × 2 columns</p>\n",
       "</div>"
      ],
      "text/plain": [
       "           Date      value\n",
       "0    2023-01-01  52.274599\n",
       "1    2023-01-02  63.071428\n",
       "2    2023-01-03  33.925168\n",
       "3    2023-01-04  51.846339\n",
       "4    2023-01-05  52.598828\n",
       "..          ...        ...\n",
       "360  2023-12-27  59.261775\n",
       "361  2023-12-28  69.094166\n",
       "362  2023-12-29  36.014324\n",
       "363  2023-12-30  55.629692\n",
       "364  2023-12-31  43.493574\n",
       "\n",
       "[365 rows x 2 columns]"
      ]
     },
     "execution_count": 8,
     "metadata": {},
     "output_type": "execute_result"
    }
   ],
   "source": [
    "# 1. 필요한 라이브러리\n",
    "# - pandas는 데이터 불러오기 및 전처리를 위해 필요합니다.\n",
    "# - scipy.stats의 ttest_ind는 두 그룹의 평균을 비교하는 독립표본 t-검정을 수행하는 함수입니다.\n",
    "\n",
    "import pandas as pd\n",
    "from scipy.stats import ttest_ind\n",
    "\n",
    "# 2. CSV 파일을 불러오세요.\n",
    "# - 파일 경로: \"../data/time_series_data.csv\"\n",
    "# - 데이터를 불러와 `df_ts`라는 변수에 저장하세요.\n",
    "\n",
    "df_ts = pd.read_csv('data/time_series_data.csv')\n",
    "df_ts"
   ]
  },
  {
   "cell_type": "code",
   "execution_count": 9,
   "metadata": {},
   "outputs": [
    {
     "data": {
      "text/plain": [
       "Date      object\n",
       "value    float64\n",
       "dtype: object"
      ]
     },
     "execution_count": 9,
     "metadata": {},
     "output_type": "execute_result"
    }
   ],
   "source": [
    "df_ts.dtypes"
   ]
  },
  {
   "cell_type": "code",
   "execution_count": 10,
   "metadata": {},
   "outputs": [
    {
     "data": {
      "text/plain": [
       "Date     datetime64[ns]\n",
       "value           float64\n",
       "dtype: object"
      ]
     },
     "execution_count": 10,
     "metadata": {},
     "output_type": "execute_result"
    }
   ],
   "source": [
    "# 3. 날짜 데이터를 datetime 형식으로 변환하세요.\n",
    "# - \"Date\" 컬럼을 문자열이 아닌 날짜 형식으로 변환해야 이후 분석이 가능함.\n",
    "df_ts[\"Date\"] = pd.to_datetime(df_ts['Date'])\n",
    "df_ts.dtypes"
   ]
  },
  {
   "cell_type": "code",
   "execution_count": 11,
   "metadata": {},
   "outputs": [
    {
     "data": {
      "text/html": [
       "<div>\n",
       "<style scoped>\n",
       "    .dataframe tbody tr th:only-of-type {\n",
       "        vertical-align: middle;\n",
       "    }\n",
       "\n",
       "    .dataframe tbody tr th {\n",
       "        vertical-align: top;\n",
       "    }\n",
       "\n",
       "    .dataframe thead th {\n",
       "        text-align: right;\n",
       "    }\n",
       "</style>\n",
       "<table border=\"1\" class=\"dataframe\">\n",
       "  <thead>\n",
       "    <tr style=\"text-align: right;\">\n",
       "      <th></th>\n",
       "      <th>Date</th>\n",
       "      <th>value</th>\n",
       "    </tr>\n",
       "  </thead>\n",
       "  <tbody>\n",
       "    <tr>\n",
       "      <th>0</th>\n",
       "      <td>2023-01-01</td>\n",
       "      <td>52.274599</td>\n",
       "    </tr>\n",
       "    <tr>\n",
       "      <th>1</th>\n",
       "      <td>2023-01-02</td>\n",
       "      <td>63.071428</td>\n",
       "    </tr>\n",
       "    <tr>\n",
       "      <th>2</th>\n",
       "      <td>2023-01-03</td>\n",
       "      <td>33.925168</td>\n",
       "    </tr>\n",
       "    <tr>\n",
       "      <th>3</th>\n",
       "      <td>2023-01-04</td>\n",
       "      <td>51.846339</td>\n",
       "    </tr>\n",
       "    <tr>\n",
       "      <th>4</th>\n",
       "      <td>2023-01-05</td>\n",
       "      <td>52.598828</td>\n",
       "    </tr>\n",
       "    <tr>\n",
       "      <th>...</th>\n",
       "      <td>...</td>\n",
       "      <td>...</td>\n",
       "    </tr>\n",
       "    <tr>\n",
       "      <th>360</th>\n",
       "      <td>2023-12-27</td>\n",
       "      <td>59.261775</td>\n",
       "    </tr>\n",
       "    <tr>\n",
       "      <th>361</th>\n",
       "      <td>2023-12-28</td>\n",
       "      <td>69.094166</td>\n",
       "    </tr>\n",
       "    <tr>\n",
       "      <th>362</th>\n",
       "      <td>2023-12-29</td>\n",
       "      <td>36.014324</td>\n",
       "    </tr>\n",
       "    <tr>\n",
       "      <th>363</th>\n",
       "      <td>2023-12-30</td>\n",
       "      <td>55.629692</td>\n",
       "    </tr>\n",
       "    <tr>\n",
       "      <th>364</th>\n",
       "      <td>2023-12-31</td>\n",
       "      <td>43.493574</td>\n",
       "    </tr>\n",
       "  </tbody>\n",
       "</table>\n",
       "<p>365 rows × 2 columns</p>\n",
       "</div>"
      ],
      "text/plain": [
       "          Date      value\n",
       "0   2023-01-01  52.274599\n",
       "1   2023-01-02  63.071428\n",
       "2   2023-01-03  33.925168\n",
       "3   2023-01-04  51.846339\n",
       "4   2023-01-05  52.598828\n",
       "..         ...        ...\n",
       "360 2023-12-27  59.261775\n",
       "361 2023-12-28  69.094166\n",
       "362 2023-12-29  36.014324\n",
       "363 2023-12-30  55.629692\n",
       "364 2023-12-31  43.493574\n",
       "\n",
       "[365 rows x 2 columns]"
      ]
     },
     "execution_count": 11,
     "metadata": {},
     "output_type": "execute_result"
    }
   ],
   "source": [
    "# 4. 데이터를 날짜 기준으로 정렬하세요.\n",
    "# - 만약 데이터가 섞여 있다면 시간 순서대로 정렬해야 합니다.\n",
    "df_ts = df_ts.sort_values(by='Date')\n",
    "df_ts"
   ]
  },
  {
   "cell_type": "code",
   "execution_count": 13,
   "metadata": {},
   "outputs": [
    {
     "name": "stdout",
     "output_type": "stream",
     "text": [
      "전체 데이터의 기본 통계량\n"
     ]
    },
    {
     "data": {
      "text/html": [
       "<div>\n",
       "<style scoped>\n",
       "    .dataframe tbody tr th:only-of-type {\n",
       "        vertical-align: middle;\n",
       "    }\n",
       "\n",
       "    .dataframe tbody tr th {\n",
       "        vertical-align: top;\n",
       "    }\n",
       "\n",
       "    .dataframe thead th {\n",
       "        text-align: right;\n",
       "    }\n",
       "</style>\n",
       "<table border=\"1\" class=\"dataframe\">\n",
       "  <thead>\n",
       "    <tr style=\"text-align: right;\">\n",
       "      <th></th>\n",
       "      <th>value</th>\n",
       "    </tr>\n",
       "  </thead>\n",
       "  <tbody>\n",
       "    <tr>\n",
       "      <th>count</th>\n",
       "      <td>365.000000</td>\n",
       "    </tr>\n",
       "    <tr>\n",
       "      <th>mean</th>\n",
       "      <td>50.452941</td>\n",
       "    </tr>\n",
       "    <tr>\n",
       "      <th>std</th>\n",
       "      <td>9.976651</td>\n",
       "    </tr>\n",
       "    <tr>\n",
       "      <th>min</th>\n",
       "      <td>17.587327</td>\n",
       "    </tr>\n",
       "    <tr>\n",
       "      <th>25%</th>\n",
       "      <td>42.923305</td>\n",
       "    </tr>\n",
       "    <tr>\n",
       "      <th>50%</th>\n",
       "      <td>50.642800</td>\n",
       "    </tr>\n",
       "    <tr>\n",
       "      <th>75%</th>\n",
       "      <td>56.795977</td>\n",
       "    </tr>\n",
       "    <tr>\n",
       "      <th>max</th>\n",
       "      <td>88.527315</td>\n",
       "    </tr>\n",
       "  </tbody>\n",
       "</table>\n",
       "</div>"
      ],
      "text/plain": [
       "            value\n",
       "count  365.000000\n",
       "mean    50.452941\n",
       "std      9.976651\n",
       "min     17.587327\n",
       "25%     42.923305\n",
       "50%     50.642800\n",
       "75%     56.795977\n",
       "max     88.527315"
      ]
     },
     "execution_count": 13,
     "metadata": {},
     "output_type": "execute_result"
    }
   ],
   "source": [
    "# 5. 전체 데이터의 기본 통계량을 확인하세요.\n",
    "# - describe() 함수를 사용하여 데이터의 평균, 표준편차, 최소/최대값 등을 확인할 수 있음.\n",
    "summary_stats = df_ts[[\"value\"]].describe()\n",
    "\n",
    "# 6. 기본 통계량을 출력하세요.\n",
    "print(\"전체 데이터의 기본 통계량\")\n",
    "summary_stats"
   ]
  },
  {
   "cell_type": "code",
   "execution_count": 15,
   "metadata": {},
   "outputs": [
    {
     "data": {
      "text/html": [
       "<div>\n",
       "<style scoped>\n",
       "    .dataframe tbody tr th:only-of-type {\n",
       "        vertical-align: middle;\n",
       "    }\n",
       "\n",
       "    .dataframe tbody tr th {\n",
       "        vertical-align: top;\n",
       "    }\n",
       "\n",
       "    .dataframe thead th {\n",
       "        text-align: right;\n",
       "    }\n",
       "</style>\n",
       "<table border=\"1\" class=\"dataframe\">\n",
       "  <thead>\n",
       "    <tr style=\"text-align: right;\">\n",
       "      <th></th>\n",
       "      <th>Date</th>\n",
       "      <th>value</th>\n",
       "      <th>Month</th>\n",
       "    </tr>\n",
       "  </thead>\n",
       "  <tbody>\n",
       "    <tr>\n",
       "      <th>0</th>\n",
       "      <td>2023-01-01</td>\n",
       "      <td>52.274599</td>\n",
       "      <td>1</td>\n",
       "    </tr>\n",
       "    <tr>\n",
       "      <th>1</th>\n",
       "      <td>2023-01-02</td>\n",
       "      <td>63.071428</td>\n",
       "      <td>1</td>\n",
       "    </tr>\n",
       "    <tr>\n",
       "      <th>2</th>\n",
       "      <td>2023-01-03</td>\n",
       "      <td>33.925168</td>\n",
       "      <td>1</td>\n",
       "    </tr>\n",
       "    <tr>\n",
       "      <th>3</th>\n",
       "      <td>2023-01-04</td>\n",
       "      <td>51.846339</td>\n",
       "      <td>1</td>\n",
       "    </tr>\n",
       "    <tr>\n",
       "      <th>4</th>\n",
       "      <td>2023-01-05</td>\n",
       "      <td>52.598828</td>\n",
       "      <td>1</td>\n",
       "    </tr>\n",
       "    <tr>\n",
       "      <th>...</th>\n",
       "      <td>...</td>\n",
       "      <td>...</td>\n",
       "      <td>...</td>\n",
       "    </tr>\n",
       "    <tr>\n",
       "      <th>360</th>\n",
       "      <td>2023-12-27</td>\n",
       "      <td>59.261775</td>\n",
       "      <td>12</td>\n",
       "    </tr>\n",
       "    <tr>\n",
       "      <th>361</th>\n",
       "      <td>2023-12-28</td>\n",
       "      <td>69.094166</td>\n",
       "      <td>12</td>\n",
       "    </tr>\n",
       "    <tr>\n",
       "      <th>362</th>\n",
       "      <td>2023-12-29</td>\n",
       "      <td>36.014324</td>\n",
       "      <td>12</td>\n",
       "    </tr>\n",
       "    <tr>\n",
       "      <th>363</th>\n",
       "      <td>2023-12-30</td>\n",
       "      <td>55.629692</td>\n",
       "      <td>12</td>\n",
       "    </tr>\n",
       "    <tr>\n",
       "      <th>364</th>\n",
       "      <td>2023-12-31</td>\n",
       "      <td>43.493574</td>\n",
       "      <td>12</td>\n",
       "    </tr>\n",
       "  </tbody>\n",
       "</table>\n",
       "<p>365 rows × 3 columns</p>\n",
       "</div>"
      ],
      "text/plain": [
       "          Date      value  Month\n",
       "0   2023-01-01  52.274599      1\n",
       "1   2023-01-02  63.071428      1\n",
       "2   2023-01-03  33.925168      1\n",
       "3   2023-01-04  51.846339      1\n",
       "4   2023-01-05  52.598828      1\n",
       "..         ...        ...    ...\n",
       "360 2023-12-27  59.261775     12\n",
       "361 2023-12-28  69.094166     12\n",
       "362 2023-12-29  36.014324     12\n",
       "363 2023-12-30  55.629692     12\n",
       "364 2023-12-31  43.493574     12\n",
       "\n",
       "[365 rows x 3 columns]"
      ]
     },
     "execution_count": 15,
     "metadata": {},
     "output_type": "execute_result"
    }
   ],
   "source": [
    "# 7. 특정 기간(1월 vs. 12월) 비교를 위해 \"Month\" 컬럼을 추가하세요.\n",
    "# - datetime 형식의 데이터를 활용하여 \"Month\" 컬럼을 생성.\n",
    "df_ts[\"Month\"] = df_ts[\"Date\"].dt.month\n",
    "df_ts"
   ]
  },
  {
   "cell_type": "code",
   "execution_count": 18,
   "metadata": {},
   "outputs": [
    {
     "data": {
      "text/plain": [
       "0     52.274599\n",
       "1     63.071428\n",
       "2     33.925168\n",
       "3     51.846339\n",
       "4     52.598828\n",
       "5     57.818229\n",
       "6     37.630493\n",
       "7     36.795434\n",
       "8     55.219416\n",
       "9     52.969847\n",
       "10    52.504929\n",
       "11    53.464482\n",
       "12    43.199753\n",
       "13    52.322537\n",
       "14    52.930725\n",
       "15    42.856486\n",
       "16    68.657745\n",
       "17    54.738329\n",
       "18    38.086965\n",
       "19    56.565536\n",
       "20    40.253183\n",
       "21    57.870846\n",
       "22    61.585956\n",
       "23    41.793177\n",
       "24    59.633761\n",
       "25    54.127809\n",
       "26    58.220602\n",
       "27    68.967930\n",
       "28    47.546119\n",
       "29    42.462638\n",
       "30    41.104856\n",
       "Name: value, dtype: float64"
      ]
     },
     "execution_count": 18,
     "metadata": {},
     "output_type": "execute_result"
    }
   ],
   "source": [
    "\n",
    "# 8. 1월과 12월 데이터를 각각 선택하세요.\n",
    "# - 1월 데이터를 `jan_values` 변수에 저장\n",
    "jan_values = df_ts[df_ts[\"Month\"] == 1][\"value\"]\n",
    "jan_values\n"
   ]
  },
  {
   "cell_type": "code",
   "execution_count": 20,
   "metadata": {},
   "outputs": [
    {
     "data": {
      "text/plain": [
       "334    66.449677\n",
       "335    47.509640\n",
       "336    55.765570\n",
       "337    53.112502\n",
       "338    80.788808\n",
       "339    61.195749\n",
       "340    48.720824\n",
       "341    40.444596\n",
       "342    33.935537\n",
       "343    52.034636\n",
       "344    42.436493\n",
       "345    35.777463\n",
       "346    43.534271\n",
       "347    39.184520\n",
       "348    66.871416\n",
       "349    58.816398\n",
       "350    49.920274\n",
       "351    64.799441\n",
       "352    50.773683\n",
       "353    41.387158\n",
       "354    65.231241\n",
       "355    55.389100\n",
       "356    39.627538\n",
       "357    48.096613\n",
       "358    41.243817\n",
       "359    36.172003\n",
       "360    59.261775\n",
       "361    69.094166\n",
       "362    36.014324\n",
       "363    55.629692\n",
       "364    43.493574\n",
       "Name: value, dtype: float64"
      ]
     },
     "execution_count": 20,
     "metadata": {},
     "output_type": "execute_result"
    }
   ],
   "source": [
    "# - 12월 데이터를 `dec_values` 변수에 저장\n",
    "dec_values = df_ts[df_ts[\"Month\"] == 12][\"value\"]\n",
    "dec_values"
   ]
  },
  {
   "cell_type": "code",
   "execution_count": 22,
   "metadata": {},
   "outputs": [
    {
     "name": "stdout",
     "output_type": "stream",
     "text": [
      "\n",
      "1월과 12월의 평균 비교\n",
      "1월 평균: 51.07\n",
      "12월 평균: 51.06\n"
     ]
    }
   ],
   "source": [
    "\n",
    "# 9. 1월과 12월의 평균 값을 계산하세요.\n",
    "# - mean() 함수를 사용하여 평균을 계산.\n",
    "jan_mean = jan_values.mean()\n",
    "dec_mean = dec_values.mean()\n",
    "\n",
    "# 10. 1월과 12월의 평균을 출력하세요.\n",
    "print(\"\\n1월과 12월의 평균 비교\")\n",
    "print(f\"1월 평균: {jan_mean:.2f}\")\n",
    "print(f\"12월 평균: {dec_mean:.2f}\")"
   ]
  },
  {
   "cell_type": "code",
   "execution_count": null,
   "metadata": {},
   "outputs": [
    {
     "name": "stdout",
     "output_type": "stream",
     "text": [
      "\n",
      "독립표본 t-검정 결과\n",
      "t-값: 0.0040\n",
      "p-value: 0.9968\n"
     ]
    }
   ],
   "source": [
    "# 11. 독립표본 t-검정을 수행하세요.\n",
    "# - 귀무가설(H₀): \"1월과 12월의 값에 유의미한 차이가 없다\"\n",
    "# - 대립가설(H₁): \"1월과 12월의 값에 유의미한 차이가 있다\"\n",
    "\n",
    "# t-검정은 두 집단(여기서는 1월과 12월)의 평균이 통계적으로 차이가 있는지를 확인하는 방법입니다.\n",
    "# 'equal_var=False'는 두 집단이 동일한 분산을 가진다고 가정하지 않고 계산하겠다는 의미입니다.\n",
    "# jan_values와 dec_values는 각각 1월과 12월의 데이터 값 목록(리스트 또는 배열)입니다.\n",
    "\n",
    "t_stat, p_value = ttest_ind(jan_values, dec_values, equal_var=False)\n",
    "\n",
    "# 12. t-검정 결과를 출력하세요.\n",
    "print(\"\\n독립표본 t-검정 결과\")  # 결과 출력 제목\n",
    "print(f\"t-값: {t_stat:.4f}\")      # t-값: 두 집단 간 차이를 수치로 나타낸 값 (크면 클수록 차이가 크다는 뜻)\n",
    "print(f\"p-value: {p_value:.4f}\")  # p-value: 차이가 우연히 발생했을 확률\n",
    "                                  # 일반적으로 p-value가 0.05보다 작으면 유의미한 차이가 있다고 판단합니다."
   ]
  },
  {
   "cell_type": "code",
   "execution_count": 23,
   "metadata": {},
   "outputs": [
    {
     "name": "stdout",
     "output_type": "stream",
     "text": [
      "1월과 12월의 값에 통계적으로 유의미한 차이가 없습니다.\n",
      "연초와 연말의 값이 비슷한 패턴을 보입니다.\n"
     ]
    }
   ],
   "source": [
    "# 13. 결과 해석을 추가하세요.\n",
    "# - p-value가 0.05보다 작으면 통계적으로 유의미한 차이가 있다고 판단.\n",
    "# - p-value가 0.05보다 크면 차이가 없다고 판단.\n",
    "if p_value < 0.05:\n",
    "    print(\"1월과 12월의 값이 통계적으로 유의미한 차이가 있습니다!\")\n",
    "else:\n",
    "    print(\"1월과 12월의 값에 통계적으로 유의미한 차이가 없습니다.\")\n",
    "    print(\"연초와 연말의 값이 비슷한 패턴을 보입니다.\")"
   ]
  }
 ],
 "metadata": {
  "kernelspec": {
   "display_name": "base",
   "language": "python",
   "name": "python3"
  },
  "language_info": {
   "codemirror_mode": {
    "name": "ipython",
    "version": 3
   },
   "file_extension": ".py",
   "mimetype": "text/x-python",
   "name": "python",
   "nbconvert_exporter": "python",
   "pygments_lexer": "ipython3",
   "version": "3.11.7"
  }
 },
 "nbformat": 4,
 "nbformat_minor": 2
}
