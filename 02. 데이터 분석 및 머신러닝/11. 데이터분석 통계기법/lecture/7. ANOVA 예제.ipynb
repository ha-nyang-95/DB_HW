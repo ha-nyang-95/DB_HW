{
 "cells": [
  {
   "cell_type": "markdown",
   "metadata": {
    "id": "6VpoU-E5oOFK"
   },
   "source": [
    "목표\n",
    "- A구, B구, C구의 승용차 이용률 평균이 서로 차이가 있는지 검정\n",
    "- 사후 검정(Tukey’s HSD Test)을 수행하여 어떤 그룹 간 차이가 유의미한지 분석"
   ]
  },
  {
   "cell_type": "code",
   "execution_count": null,
   "metadata": {},
   "outputs": [],
   "source": [
    "!pip install statsmodels"
   ]
  },
  {
   "cell_type": "code",
   "execution_count": 5,
   "metadata": {},
   "outputs": [
    {
     "data": {
      "image/png": "[encoded data removed]",
      "text/plain": [
       "<Figure size 800x500 with 1 Axes>"
      ]
     },
     "metadata": {},
     "output_type": "display_data"
    }
   ],
   "source": [
    "import numpy as np\n",
    "import pandas as pd\n",
    "import scipy.stats as stats\n",
    "import statsmodels.api as sm\n",
    "import statsmodels.formula.api as smf\n",
    "import matplotlib.pyplot as plt\n",
    "import seaborn as sns\n",
    "plt.rcParams['font.family'] = 'Malgun Gothic'\n",
    "\n",
    "\n",
    "# 랜덤 시드 설정\n",
    "np.random.seed(42)\n",
    "\n",
    "# 세 개 지역(A, B, C)의 승용차 이용률 데이터 생성\n",
    "commute_A = np.random.normal(loc=38, scale=5, size=30)  # A구 (평균 38%)\n",
    "commute_B = np.random.normal(loc=35, scale=5, size=30)  # B구 (평균 35%)\n",
    "commute_C = np.random.normal(loc=33, scale=5, size=30)  # C구 (평균 33%)\n",
    "\n",
    "# 데이터 결합\n",
    "df = pd.DataFrame({\n",
    "    '승용차 이용률': np.concatenate([commute_A, commute_B, commute_C]),\n",
    "    '지역': ['A구']*30 + ['B구']*30 + ['C구']*30\n",
    "})\n",
    "\n",
    "# 박스플롯 시각화\n",
    "plt.figure(figsize=(8, 5))\n",
    "sns.boxplot(x='지역', y='승용차 이용률', data=df)\n",
    "plt.title(\"세 개 지역의 승용차 이용률 비교\")\n",
    "plt.show()\n"
   ]
  },
  {
   "cell_type": "code",
   "execution_count": 6,
   "metadata": {},
   "outputs": [
    {
     "name": "stdout",
     "output_type": "stream",
     "text": [
      "Shapiro-Wilk test (A구): p-value = 0.6868\n",
      "Shapiro-Wilk test (B구): p-value = 0.9130\n",
      "Shapiro-Wilk test (C구): p-value = 0.3654\n",
      "모든 그룹이 정규성을 만족함\n"
     ]
    }
   ],
   "source": [
    "# 각 지역별 정규성 검정 수행\n",
    "shapiro_A = stats.shapiro(commute_A)\n",
    "shapiro_B = stats.shapiro(commute_B)\n",
    "shapiro_C = stats.shapiro(commute_C)\n",
    "\n",
    "print(f\"Shapiro-Wilk test (A구): p-value = {shapiro_A.pvalue:.4f}\")\n",
    "print(f\"Shapiro-Wilk test (B구): p-value = {shapiro_B.pvalue:.4f}\")\n",
    "print(f\"Shapiro-Wilk test (C구): p-value = {shapiro_C.pvalue:.4f}\")\n",
    "\n",
    "if shapiro_A.pvalue > 0.05 and shapiro_B.pvalue > 0.05 and shapiro_C.pvalue > 0.05:\n",
    "    print(\"모든 그룹이 정규성을 만족함\")\n",
    "else:\n",
    "    print(\"정규성이 만족되지 않음, 비모수 검정 필요\")\n"
   ]
  },
  {
   "cell_type": "code",
   "execution_count": 7,
   "metadata": {},
   "outputs": [
    {
     "name": "stdout",
     "output_type": "stream",
     "text": [
      "Levene’s 등분산 검정 결과: W-statistic = 0.1480, p-value = 0.8627\n",
      "세 그룹의 분산이 동일함 (등분산 가정 가능)\n"
     ]
    }
   ],
   "source": [
    "# Levene’s 등분산 검정 수행\n",
    "levene_test = stats.levene(commute_A, commute_B, commute_C)\n",
    "\n",
    "print(f\"Levene’s 등분산 검정 결과: W-statistic = {levene_test.statistic:.4f}, p-value = {levene_test.pvalue:.4f}\")\n",
    "\n",
    "if levene_test.pvalue > 0.05:\n",
    "    print(\"세 그룹의 분산이 동일함 (등분산 가정 가능)\")\n",
    "else:\n",
    "    print(\"세 그룹의 분산이 다름 (이분산 가정 필요)\")\n"
   ]
  },
  {
   "cell_type": "code",
   "execution_count": 8,
   "metadata": {},
   "outputs": [
    {
     "name": "stdout",
     "output_type": "stream",
     "text": [
      "                sum_sq    df         F    PR(>F)\n",
      "C(region)   248.296717   2.0  5.598587  0.005162\n",
      "Residual   1929.220089  87.0       NaN       NaN\n"
     ]
    }
   ],
   "source": [
    "# 컬럼명을 영어로 변경\n",
    "df.rename(columns={'승용차 이용률': 'car_usage', '지역': 'region'}, inplace=True)\n",
    "\n",
    "# One-Way ANOVA 수행\n",
    "anova_result = smf.ols('car_usage ~ C(region)', data=df).fit()\n",
    "anova_table = sm.stats.anova_lm(anova_result, typ=2)\n",
    "\n",
    "# 결과 출력\n",
    "print(anova_table)"
   ]
  },
  {
   "cell_type": "code",
   "execution_count": 9,
   "metadata": {},
   "outputs": [],
   "source": [
    "# 성별 데이터 추가 (각 지역당 남녀 15명씩)\n",
    "gender = ['남']*15 + ['여']*15\n",
    "gender_all = gender * 3  # 총 90명 (30명 × 3지역)\n",
    "\n",
    "# 기존 df에 추가\n",
    "df['gender'] = gender_all"
   ]
  },
  {
   "cell_type": "code",
   "execution_count": 11,
   "metadata": {},
   "outputs": [
    {
     "name": "stdout",
     "output_type": "stream",
     "text": [
      "                          sum_sq    df         F    PR(>F)\n",
      "C(region)             248.296717   2.0  5.541784  0.005487\n",
      "C(gender)               1.528877   1.0  0.068247  0.794546\n",
      "C(region):C(gender)    45.903396   2.0  1.024527  0.363407\n",
      "Residual             1881.787816  84.0       NaN       NaN\n"
     ]
    },
    {
     "data": {
      "text/plain": [
       "'\\nC(region)\\t지역에 따라 평균 차이가 있는지\\nC(gender)\\t성별에 따라 평균 차이가 있는지\\nC(region):C(gender)\\t지역과 성별 간의 상호작용 효과가 있는지\\n'"
      ]
     },
     "execution_count": 11,
     "metadata": {},
     "output_type": "execute_result"
    }
   ],
   "source": [
    "# Two-Way ANOVA 모델: 지역(region)과 성별(gender)의 주효과 + 상호작용 효과\n",
    "model = smf.ols('car_usage ~ C(region) + C(gender) + C(region):C(gender)', data=df).fit()\n",
    "anova_table2 = sm.stats.anova_lm(model, typ=2)\n",
    "print(anova_table2)\n",
    "\n",
    "\"\"\"\n",
    "C(region)\t지역에 따라 평균 차이가 있는지\n",
    "C(gender)\t성별에 따라 평균 차이가 있는지\n",
    "C(region):C(gender)\t지역과 성별 간의 상호작용 효과가 있는지\n",
    "\"\"\""
   ]
  },
  {
   "cell_type": "code",
   "execution_count": null,
   "metadata": {},
   "outputs": [],
   "source": []
  }
 ],
 "metadata": {
  "accelerator": "GPU",
  "colab": {
   "authorship_tag": "ABX9TyMsOkTCapH5UcKa6ne5t0Ll",
   "gpuType": "T4",
   "provenance": []
  },
  "kernelspec": {
   "display_name": "lecture_code-OR4jHJxs",
   "language": "python",
   "name": "python3"
  },
  "language_info": {
   "codemirror_mode": {
    "name": "ipython",
    "version": 3
   },
   "file_extension": ".py",
   "mimetype": "text/x-python",
   "name": "python",
   "nbconvert_exporter": "python",
   "pygments_lexer": "ipython3",
   "version": "3.9.13"
  }
 },
 "nbformat": 4,
 "nbformat_minor": 0
}
