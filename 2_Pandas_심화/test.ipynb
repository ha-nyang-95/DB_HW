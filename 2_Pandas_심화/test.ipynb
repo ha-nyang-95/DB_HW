{
 "cells": [
  {
   "cell_type": "code",
   "execution_count": 1,
   "metadata": {},
   "outputs": [],
   "source": [
    "import pandas as pd\n",
    "\n",
    "# ===================== 1. 데이터 로드 =====================\n",
    "# 캠페인 데이터 파일 경로 설정\n",
    "campaign_file_path = \"data_analysis1_ws_2_2\\data\\campaign_data.csv\"  # <빈칸>:\"campaign_data.csv\" 파일 경로를 입력하세요.\n",
    "\n",
    "# CSV 파일을 데이터프레임으로 로드\n",
    "df_campaign = pd.read_csv(campaign_file_path)"
   ]
  },
  {
   "cell_type": "code",
   "execution_count": 2,
   "metadata": {},
   "outputs": [
    {
     "name": "stdout",
     "output_type": "stream",
     "text": [
      "=== 캠페인 데이터 정보 ===\n",
      "<class 'pandas.core.frame.DataFrame'>\n",
      "RangeIndex: 1000 entries, 0 to 999\n",
      "Data columns (total 5 columns):\n",
      " #   Column         Non-Null Count  Dtype\n",
      "---  ------         --------------  -----\n",
      " 0   CampaignID     1000 non-null   int64\n",
      " 1   CustomerID     1000 non-null   int64\n",
      " 2   Participation  1000 non-null   int64\n",
      " 3   Clicks         1000 non-null   int64\n",
      " 4   Revenue        1000 non-null   int64\n",
      "dtypes: int64(5)\n",
      "memory usage: 39.2 KB\n",
      "None\n"
     ]
    }
   ],
   "source": [
    "print(\"=== 캠페인 데이터 정보 ===\")\n",
    "print(df_campaign.info())  # <빈칸>: 데이터프레임의 구조 및 컬럼 정보 확인"
   ]
  },
  {
   "cell_type": "code",
   "execution_count": 3,
   "metadata": {},
   "outputs": [
    {
     "name": "stdout",
     "output_type": "stream",
     "text": [
      "=== 판매 데이터 정보 ===\n",
      "<class 'pandas.core.frame.DataFrame'>\n",
      "RangeIndex: 1000 entries, 0 to 999\n",
      "Data columns (total 5 columns):\n",
      " #   Column    Non-Null Count  Dtype \n",
      "---  ------    --------------  ----- \n",
      " 0   Region    1000 non-null   object\n",
      " 1   Product   1000 non-null   object\n",
      " 2   Price     1000 non-null   int64 \n",
      " 3   Quantity  1000 non-null   int64 \n",
      " 4   Date      1000 non-null   object\n",
      "dtypes: int64(2), object(3)\n",
      "memory usage: 39.2+ KB\n",
      "None\n"
     ]
    }
   ],
   "source": [
    "# 필요한 라이브러리 불러오기\n",
    "import pandas as pd\n",
    "\n",
    "# ===================== 1. 데이터 로드 =====================\n",
    "# 판매 데이터 파일 경로 설정\n",
    "sales_file_path = \"data_analysis1_ws_2_3\\data\\sales_data.csv\"  # <빈칸>: \"sales_data.csv\" CSV 파일 경로를 입력하세요.\n",
    "\n",
    "# CSV 파일을 데이터프레임으로 로드\n",
    "df_sales = pd.read_csv(sales_file_path)  # <빈칸>: Pandas의 read_csv() 함수를 사용하여 데이터를 불러오세요.\n",
    "\n",
    "# ===================== 2. 데이터 확인 =====================\n",
    "# 데이터프레임 기본 정보 출력\n",
    "print(\"=== 판매 데이터 정보 ===\")\n",
    "print(df_sales.info())  # <빈칸>: 데이터프레임의 구조 및 컬럼 정보 확인"
   ]
  },
  {
   "cell_type": "code",
   "execution_count": 5,
   "metadata": {},
   "outputs": [
    {
     "name": "stdout",
     "output_type": "stream",
     "text": [
      "=== 구매 이력 데이터 정보 ===\n",
      "<class 'pandas.core.frame.DataFrame'>\n",
      "RangeIndex: 1000 entries, 0 to 999\n",
      "Data columns (total 3 columns):\n",
      " #   Column           Non-Null Count  Dtype\n",
      "---  ------           --------------  -----\n",
      " 0   CustomerID       1000 non-null   int64\n",
      " 1   PurchaseHistory  1000 non-null   int64\n",
      " 2   TotalSpent       1000 non-null   int64\n",
      "dtypes: int64(3)\n",
      "memory usage: 23.6 KB\n",
      "None\n",
      "\n",
      "=== 고객 만족도 설문 데이터 정보 ===\n",
      "<class 'pandas.core.frame.DataFrame'>\n",
      "RangeIndex: 1000 entries, 0 to 999\n",
      "Data columns (total 2 columns):\n",
      " #   Column        Non-Null Count  Dtype\n",
      "---  ------        --------------  -----\n",
      " 0   CustomerID    1000 non-null   int64\n",
      " 1   Satisfaction  1000 non-null   int64\n",
      "dtypes: int64(2)\n",
      "memory usage: 15.8 KB\n",
      "None\n"
     ]
    }
   ],
   "source": [
    "# 필요한 라이브러리 불러오기\n",
    "import pandas as pd\n",
    "import matplotlib.pyplot as plt\n",
    "import seaborn as sns\n",
    "plt.rcParams['font.family'] = 'Malgun Gothic'\n",
    "\n",
    "# ===================== 1. 데이터 로드 =====================\n",
    "# 각 데이터 파일 경로 설정\n",
    "purchase_file_path = \"data_analysis1_ws_2_4\\data\\purchase_history.csv\"  # <빈칸>: \"purchase_history.csv\" 구매 이력 데이터 파일 경로 입력\n",
    "survey_file_path = \"data_analysis1_ws_2_4\\data\\satisfaction_survey.csv\"  # <빈칸>: \"satisfaction_survey.csv\" 고객 만족도 데이터 파일 경로 입력 \n",
    "\n",
    "# CSV 파일을 데이터프레임으로 로드\n",
    "df_purchase = pd.read_csv(purchase_file_path)  # <빈칸>: pandas의 read_csv() 함수를 사용하여 데이터 로드\n",
    "df_survey = pd.read_csv(survey_file_path)  # <빈칸>: 고객 만족도 데이터 로드\n",
    "\n",
    "# ===================== 2. 데이터 확인 =====================\n",
    "# 데이터프레임 기본 정보 출력\n",
    "print(\"=== 구매 이력 데이터 정보 ===\")\n",
    "print(df_purchase.info())  # <빈칸>: 데이터프레임의 구조 및 컬럼 정보 확인\n",
    "print(\"\\n=== 고객 만족도 설문 데이터 정보 ===\")\n",
    "print(df_survey.info())  # <빈칸>: 데이터프레임의 구조 및 컬럼 정보 확인\n"
   ]
  },
  {
   "cell_type": "code",
   "execution_count": 6,
   "metadata": {},
   "outputs": [
    {
     "data": {
      "text/plain": [
       "PurchaseHistory\n",
       "33    32\n",
       "22    29\n",
       "35    27\n",
       "42    25\n",
       "46    25\n",
       "17    25\n",
       "11    25\n",
       "47    25\n",
       "40    24\n",
       "9     24\n",
       "38    24\n",
       "15    24\n",
       "45    23\n",
       "32    23\n",
       "1     23\n",
       "7     23\n",
       "41    23\n",
       "16    22\n",
       "6     22\n",
       "5     22\n",
       "21    21\n",
       "36    21\n",
       "30    21\n",
       "48    21\n",
       "3     21\n",
       "34    21\n",
       "27    20\n",
       "39    20\n",
       "26    20\n",
       "31    19\n",
       "19    19\n",
       "18    19\n",
       "10    19\n",
       "24    19\n",
       "49    19\n",
       "2     18\n",
       "29    17\n",
       "28    17\n",
       "37    17\n",
       "43    16\n",
       "13    16\n",
       "25    15\n",
       "4     15\n",
       "44    15\n",
       "12    14\n",
       "20    14\n",
       "8     13\n",
       "14    12\n",
       "23    11\n",
       "Name: count, dtype: int64"
      ]
     },
     "execution_count": 6,
     "metadata": {},
     "output_type": "execute_result"
    }
   ],
   "source": [
    "df_purchase['PurchaseHistory'].value_counts()"
   ]
  },
  {
   "cell_type": "code",
   "execution_count": 7,
   "metadata": {},
   "outputs": [
    {
     "data": {
      "text/plain": [
       "Satisfaction\n",
       "9     114\n",
       "1     107\n",
       "10    106\n",
       "5     102\n",
       "8     102\n",
       "3     101\n",
       "7      99\n",
       "4      94\n",
       "2      89\n",
       "6      86\n",
       "Name: count, dtype: int64"
      ]
     },
     "execution_count": 7,
     "metadata": {},
     "output_type": "execute_result"
    }
   ],
   "source": [
    "df_survey['Satisfaction'].value_counts()"
   ]
  },
  {
   "cell_type": "code",
   "execution_count": 8,
   "metadata": {},
   "outputs": [
    {
     "name": "stdout",
     "output_type": "stream",
     "text": [
      "=== 판매 데이터 정보 ===\n",
      "<class 'pandas.core.frame.DataFrame'>\n",
      "RangeIndex: 1000 entries, 0 to 999\n",
      "Data columns (total 5 columns):\n",
      " #   Column              Non-Null Count  Dtype  \n",
      "---  ------              --------------  -----  \n",
      " 0   ProductID           1000 non-null   int64  \n",
      " 1   Price               1000 non-null   int64  \n",
      " 2   SalesVolume         1000 non-null   int64  \n",
      " 3   DiscountRate        1000 non-null   float64\n",
      " 4   AdvertisingExpense  1000 non-null   int64  \n",
      "dtypes: float64(1), int64(4)\n",
      "memory usage: 39.2 KB\n",
      "None\n"
     ]
    }
   ],
   "source": [
    "# ===================== 1. 라이브러리 불러오기 =====================\n",
    "import pandas as pd\n",
    "import matplotlib.pyplot as plt\n",
    "import seaborn as sns\n",
    "plt.rcParams['font.family'] = 'Malgun Gothic'\n",
    "\n",
    "# ===================== 2. 데이터 로드 =====================\n",
    "# 판매 데이터 파일 경로 설정\n",
    "sales_file_path = \"data_analysis1_ws_2_5\\data\\sales_data.csv\" # [Q1] 판매 데이터 파일 sales_data.csv 경로 입력\n",
    "\n",
    "# CSV 파일을 데이터프레임으로 로드\n",
    "df_sales = pd.read_csv(sales_file_path)  # [Q2] pandas를 사용하여 CSV 파일을 로드\n",
    "\n",
    "# ===================== 3. 데이터 확인 =====================\n",
    "# 데이터프레임 기본 정보 출력\n",
    "print(\"=== 판매 데이터 정보 ===\")\n",
    "print(df_sales.info())  # [Q3] 데이터프레임의 컬럼 정보 및 데이터 타입 확인"
   ]
  },
  {
   "cell_type": "code",
   "execution_count": null,
   "metadata": {},
   "outputs": [],
   "source": []
  }
 ],
 "metadata": {
  "kernelspec": {
   "display_name": "Python 3",
   "language": "python",
   "name": "python3"
  },
  "language_info": {
   "codemirror_mode": {
    "name": "ipython",
    "version": 3
   },
   "file_extension": ".py",
   "mimetype": "text/x-python",
   "name": "python",
   "nbconvert_exporter": "python",
   "pygments_lexer": "ipython3",
   "version": "3.9.13"
  }
 },
 "nbformat": 4,
 "nbformat_minor": 2
}
