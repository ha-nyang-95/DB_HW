{
 "cells": [
  {
   "cell_type": "code",
   "execution_count": null,
   "metadata": {},
   "outputs": [],
   "source": [
    "import pandas as pd\n",
    " \n",
    "train_dt = pd.read_csv('titanic.csv')\n",
    "train_dt.head()"
   ]
  },
  {
   "cell_type": "code",
   "execution_count": null,
   "metadata": {},
   "outputs": [],
   "source": [
    "train_dt.info()"
   ]
  },
  {
   "cell_type": "code",
   "execution_count": null,
   "metadata": {},
   "outputs": [],
   "source": [
    "import matplotlib.pyplot as plt\n",
    "import seaborn as sns\n",
    " \n",
    "# 한글 사용 준비\n",
    "plt.rcParams['font.family'] = 'Malgun Gothic'"
   ]
  },
  {
   "cell_type": "code",
   "execution_count": null,
   "metadata": {},
   "outputs": [],
   "source": [
    "# 연속형 변수 선택\n",
    "continuous_vars = [\"Age\", \"SibSp\", \"Parch\", \"Fare\"]\n",
    "\n",
    "# 그래프 스타일 설정\n",
    "plt.figure(figsize=(12, 4))\n",
    "plt.suptitle(\"연속형 데이터 개별 변수 분포(Variation)\", fontsize=14, fontweight=\"bold\")\n",
    "\n",
    "# 각 변수에 대한 분포 플롯 생성\n",
    "for i, var in enumerate(continuous_vars):\n",
    "    plt.subplot(1, 4, i+1)\n",
    "    sns.histplot(train_dt[var], bins=30, kde=True)\n",
    "    plt.title(var.capitalize())\n",
    "    plt.xlabel(var)\n",
    "    plt.ylabel(\"Count\")\n",
    "\n",
    "plt.tight_layout(rect=[0, 0, 1, 0.9])\n",
    "plt.show()"
   ]
  },
  {
   "cell_type": "code",
   "execution_count": null,
   "metadata": {},
   "outputs": [],
   "source": [
    "# 범주형 변수 선택\n",
    "categorical_vars = [\"Pclass\", \"Sex\", \"Embarked\"]\n",
    "\n",
    "# 그래프 스타일 설정\n",
    "plt.figure(figsize=(12, 4))\n",
    "plt.suptitle(\"범주형 데이터 개별 변수 분포\", fontsize=14, fontweight=\"bold\")\n",
    "\n",
    "# 각 변수에 대한 카운트 플롯 생성\n",
    "for i, var in enumerate(categorical_vars):\n",
    "    plt.subplot(1, 3, i+1)\n",
    "    sns.countplot(x=train_dt[var], palette=\"muted\", hue=train_dt[var], legend=False)\n",
    "    plt.title(var.capitalize())\n",
    "    plt.xlabel(var)\n",
    "    plt.ylabel(\"Count\")\n",
    "\n",
    "plt.tight_layout(rect=[0, 0, 1, 0.9])\n",
    "plt.show()"
   ]
  },
  {
   "cell_type": "code",
   "execution_count": null,
   "metadata": {},
   "outputs": [],
   "source": [
    "train_dt['Survived'].value_counts()"
   ]
  },
  {
   "cell_type": "code",
   "execution_count": null,
   "metadata": {},
   "outputs": [],
   "source": [
    "train_dt_copy = train_dt.copy()\n",
    "# Survived 변수 매핑 (0: 사망, 1: 생존)\n",
    "train_dt_copy[\"Survived\"] = train_dt_copy[\"Survived\"].map({0: \"사망\", 1: \"생존\"})\n",
    "\n",
    "\n",
    "# 생존자 및 사망자 수 계산\n",
    "survived_counts = train_dt_copy[\"Survived\"].value_counts()\n",
    "labels = survived_counts.index\n",
    "sizes = survived_counts.values\n",
    "colors = [\"#1f77b4\", \"#ff7f0e\"]\n",
    "explode = [0, 0.1]  # 생존자 부분만 분리\n",
    "\n",
    "# 그래프 설정\n",
    "fig, axes = plt.subplots(1, 2, figsize=(8, 4))  # 크기 조정\n",
    "fig.suptitle(\"\", fontsize=14, fontweight=\"bold\")\n",
    "\n",
    "# 파이 차트 (조각 분리)\n",
    "axes[0].pie(\n",
    "    sizes, labels=labels, autopct=\"%1.1f%%\", colors=colors, explode=explode, shadow=True\n",
    ")\n",
    "axes[0].set_title(\"\")\n",
    "\n",
    "# 바 차트\n",
    "sns.barplot(x=labels, y=sizes, ax=axes[1], palette=\"muted\", hue=labels, legend=False)\n",
    "axes[1].set_ylabel(\"Count\")\n",
    "\n",
    "plt.tight_layout()\n",
    "plt.show()"
   ]
  },
  {
   "cell_type": "code",
   "execution_count": null,
   "metadata": {},
   "outputs": [],
   "source": [
    "train_dt['Name'].unique()"
   ]
  },
  {
   "cell_type": "code",
   "execution_count": null,
   "metadata": {},
   "outputs": [],
   "source": [
    "train_dt['Pclass'].value_counts()"
   ]
  },
  {
   "cell_type": "code",
   "execution_count": null,
   "metadata": {},
   "outputs": [],
   "source": [
    "# 그래프 스타일 설정\n",
    "plt.figure(figsize=(6, 5))\n",
    "\n",
    "# 막대 그래프 생성\n",
    "ax = sns.barplot(x=train_dt[\"Pclass\"].value_counts().index, \n",
    "                 y=train_dt[\"Pclass\"].value_counts().values, \n",
    "                 palette=\"pastel\",  # 색상 설정\n",
    "                 hue=train_dt[\"Pclass\"].value_counts().index,\n",
    "                 legend=False) \n",
    "\n",
    "# 제목 설정\n",
    "plt.title(\"Feature Exploration - Pclass\", fontsize=14, fontweight=\"bold\")\n",
    "plt.xlabel(\"Pclass\", fontsize=12)\n",
    "plt.ylabel(\"Count\", fontsize=12)\n",
    "\n",
    "# y축 눈금 설정\n",
    "plt.ylim(0, 550)\n",
    "\n",
    "plt.show()"
   ]
  },
  {
   "cell_type": "code",
   "execution_count": null,
   "metadata": {},
   "outputs": [],
   "source": [
    "# 그래프 스타일 설정\n",
    "plt.figure(figsize=(6, 5))\n",
    "sns.set(font=\"Malgun Gothic\", rc={\"axes.unicode_minus\": False})  \n",
    "\n",
    "# 막대 그래프 생성 (Pclass별 Survived 분포)\n",
    "ax = sns.countplot(data=train_dt, x=\"Pclass\", hue=\"Survived\", palette=\"muted\")\n",
    "\n",
    "# 제목 및 축 설정\n",
    "plt.title(\"Feature Exploration - Pclass\", fontsize=14, fontweight=\"bold\")\n",
    "plt.xlabel(\"Pclass\", fontsize=12)\n",
    "plt.ylabel(\"Count\", fontsize=12)\n",
    "\n",
    "# 범례 설정\n",
    "plt.legend(title=\"\", labels=[\"사망\", \"생존\"])\n",
    "\n",
    "# y축 제한 설정\n",
    "plt.ylim(0, 400)\n",
    "\n",
    "plt.show()"
   ]
  },
  {
   "cell_type": "code",
   "execution_count": null,
   "metadata": {},
   "outputs": [],
   "source": [
    "# 생존자와 사망자 그룹별 Pclass 비율 계산\n",
    "dead_pclass = train_dt[train_dt[\"Survived\"] == 0][\"Pclass\"].value_counts() * 100\n",
    "survived_pclass = train_dt[train_dt[\"Survived\"] == 1][\"Pclass\"].value_counts() * 100\n",
    "\n",
    "# 파이 차트에 표시할 레이블 (Pclass 값)\n",
    "labels = [\"1\", \"2\", \"3\"]\n",
    "colors = [\"#4c72b0\", \"#dd8452\", \"#55a868\"]\n",
    "\n",
    "# 그래프 생성\n",
    "fig, axes = plt.subplots(1, 2, figsize=(8, 4))\n",
    "\n",
    "# 사망자 파이 차트\n",
    "axes[0].pie(dead_pclass.sort_index(), labels=labels, autopct=\"%1.1f%%\", colors=colors)\n",
    "axes[0].set_title(\"사망 - Pclass\")\n",
    "\n",
    "# 생존자 파이 차트\n",
    "axes[1].pie(survived_pclass.sort_index(), labels=labels, autopct=\"%1.1f%%\", colors=colors)\n",
    "axes[1].set_title(\"생존 - Pclass\")\n",
    "\n",
    "plt.show()"
   ]
  },
  {
   "cell_type": "code",
   "execution_count": null,
   "metadata": {},
   "outputs": [],
   "source": [
    "# 성별 분포 계산\n",
    "sex_counts = train_dt[\"Sex\"].value_counts()\n",
    "sex_percent = train_dt[\"Sex\"].value_counts() * 100\n",
    "\n",
    "# 성별 한글 변환\n",
    "labels = [\"남성\", \"여성\"]\n",
    "\n",
    "# 그래프 생성\n",
    "fig, axes = plt.subplots(1, 2, figsize=(8, 4))\n",
    "\n",
    "# 파이 차트\n",
    "axes[0].pie(sex_percent, labels=labels, autopct=\"%1.1f%%\", shadow=True) # autopct : 백분율 표시\n",
    "axes[0].set_title(\"\")\n",
    "\n",
    "# 바 차트\n",
    "sns.barplot(x=labels, y=sex_counts, ax=axes[1], palette=\"muted\", hue=labels, legend=False)\n",
    "axes[1].set_ylabel(\"Count\")\n",
    "\n",
    "plt.show()\n"
   ]
  },
  {
   "cell_type": "code",
   "execution_count": null,
   "metadata": {},
   "outputs": [],
   "source": [
    "# 그래프 크기 설정\n",
    "plt.figure(figsize=(5, 4))\n",
    "\n",
    "# 성별에 따른 생존 여부 카운트 플롯\n",
    "ax = sns.countplot(data=train_dt, x=\"Sex\", hue=\"Survived\", palette=\"muted\")\n",
    "\n",
    "# 한글 라벨 적용\n",
    "plt.xlabel(\"\")\n",
    "plt.ylabel(\"Count\")\n",
    "plt.xticks(ticks=[0, 1], labels=[\"남성\", \"여성\"], fontsize=11)\n",
    "\n",
    "# 범례 설정\n",
    "plt.legend(title=\"\", labels=[\"사망\", \"생존\"], loc=\"upper right\")\n",
    "\n",
    "plt.show()"
   ]
  },
  {
   "cell_type": "code",
   "execution_count": null,
   "metadata": {},
   "outputs": [],
   "source": [
    "fig, ax = plt.subplots(1,2,figsize=(10,6), constrained_layout=True)\n",
    "labels = ['여성', '남성']\n",
    " \n",
    "# Survived 가 0인 데이터를 이용한 Pie Plot\n",
    "train_dt[train_dt['Survived'] == 0]['Sex'].value_counts().sort_index().plot.pie(ax=ax[0], shadow=True, autopct='%1.1f%%', labels=labels)\n",
    "ax[0].set(ylabel='', title='사망 - Sex')\n",
    " \n",
    "# Survived 가 1인 데이터를 이용한 Pie Plot\n",
    "train_dt[train_dt['Survived'] == 1]['Sex'].value_counts().sort_index().plot.pie(ax=ax[1], shadow=True, autopct='%1.1f%%', labels=labels)\n",
    "ax[1].set(ylabel='', title='생존 - Sex')\n",
    " \n",
    "plt.show()"
   ]
  },
  {
   "cell_type": "code",
   "execution_count": null,
   "metadata": {},
   "outputs": [],
   "source": [
    "# 나이별 분포 확인\n",
    "fig, ax = plt.subplots(figsize=(10,6))\n",
    " \n",
    "sns.histplot(train_dt[\"Age\"], bins=30, kde=True, stat=\"density\", color=\"steelblue\", alpha=0.4)\n",
    " \n",
    "plt.show()"
   ]
  },
  {
   "cell_type": "code",
   "execution_count": null,
   "metadata": {},
   "outputs": [],
   "source": [
    "# 10년 단위로 연령대(AgeGroup) 컬럼 생성\n",
    "train_dt[\"AgeGroup\"] = (train_dt[\"Age\"] // 10) * 10  # 0~9, 10~19, 20~29 ...\n",
    "\n",
    "# 연령대별 생존율 계산\n",
    "# groupby(\"AgeGroup\")\n",
    "\n",
    "# AgeGroup(연령대) 별로 데이터를 묶음\n",
    "# 예: 10대, 20대, 30대 ...\n",
    "# [\"Survived\"]\n",
    "\n",
    "# 생존 여부(Survived) 값만 선택\n",
    "# .mean()\n",
    "\n",
    "# 각 연령대별 평균 생존율을 계산\n",
    "\n",
    "age_group_survival = train_dt.groupby(\"AgeGroup\")[\"Survived\"].mean()\n",
    "\n",
    "# 막대 그래프 시각화\n",
    "plt.figure(figsize=(8, 5))\n",
    "sns.barplot(x=age_group_survival.index.astype(str), y=age_group_survival.values, color=\"steelblue\")\n",
    "\n",
    "# 제목 및 축 레이블 설정\n",
    "plt.title(\"연령대별 생존율\", fontsize=14)\n",
    "plt.xlabel(\"연령대\", fontsize=12)\n",
    "plt.ylabel(\"생존율\", fontsize=12)\n",
    "\n",
    "plt.show()"
   ]
  },
  {
   "cell_type": "code",
   "execution_count": null,
   "metadata": {},
   "outputs": [],
   "source": [
    "# 그래프 크기 설정\n",
    "fig, ax = plt.subplots(figsize=(5, 6))\n",
    "\n",
    "# SibSp 분포를 나타내는 막대 그래프 (Seaborn 기본 색상 사용)\n",
    "sns.countplot(data=train_dt, x=\"SibSp\", palette=\"muted\", hue=\"SibSp\")\n",
    "\n",
    "# 제목 및 축 설정\n",
    "plt.xlabel(\"SibSp\", fontsize=12)\n",
    "plt.ylabel(\"Count\", fontsize=12)\n",
    "\n",
    "plt.show()"
   ]
  },
  {
   "cell_type": "code",
   "execution_count": null,
   "metadata": {},
   "outputs": [],
   "source": [
    "fig, ax = plt.subplots(figsize=(5,6))\n",
    " \n",
    "sns.countplot(data=train_dt, x='SibSp', hue='Survived', ax=ax)\n",
    " \n",
    "#범례 한글로 변경\n",
    "labels=['사망', '생존']\n",
    "ax.legend(labels=labels)\n",
    " \n",
    "plt.show()"
   ]
  },
  {
   "cell_type": "code",
   "execution_count": null,
   "metadata": {},
   "outputs": [],
   "source": [
    "fig, ax = plt.subplots(figsize=(5,6))\n",
    " \n",
    "sns.countplot(data=train_dt, x='Parch', palette=\"muted\", hue=\"Parch\")\n",
    " \n",
    "plt.show()"
   ]
  },
  {
   "cell_type": "code",
   "execution_count": null,
   "metadata": {},
   "outputs": [],
   "source": [
    "fig, ax = plt.subplots(figsize=(5,6))\n",
    " \n",
    "sns.countplot(data=train_dt, x='Parch', hue='Survived', ax=ax)\n",
    " \n",
    "#범례 한글로 변경\n",
    "labels=['사망', '생존']\n",
    "ax.legend(labels=labels)\n",
    " \n",
    "plt.show()"
   ]
  },
  {
   "cell_type": "code",
   "execution_count": null,
   "metadata": {},
   "outputs": [],
   "source": [
    "fig, ax = plt.subplots(1,2,figsize=(14,5))\n",
    " \n",
    "train_dt['Embarked'].value_counts().plot.pie(ax=ax[0], shadow=True, autopct='%1.1f%%')\n",
    "ax[0].set(title='Embarked', ylabel='')\n",
    " \n",
    "# sns.countplot(data=train_dt, x='Embarked', palette='muted', ax=ax[1])\n",
    "sns.countplot(data=train_dt, x='Embarked', palette='muted', ax=ax[1], hue=\"Embarked\")\n",
    "\n",
    "plt.show()"
   ]
  },
  {
   "cell_type": "code",
   "execution_count": null,
   "metadata": {},
   "outputs": [],
   "source": [
    "fig, ax = plt.subplots(figsize=(5,6))\n",
    " \n",
    "sns.countplot(data=train_dt, x='Embarked', hue='Survived', ax=ax)\n",
    " \n",
    "#범례 한글로 변경\n",
    "labels=['사망', '생존']\n",
    "ax.legend(labels=labels)\n",
    " \n",
    "plt.show()"
   ]
  },
  {
   "cell_type": "code",
   "execution_count": null,
   "metadata": {},
   "outputs": [],
   "source": [
    "# Pclass 별로 데이터를 나눔눔\n",
    "Pclass1 = train_dt[train_dt['Pclass']==1]['Embarked'].value_counts()\n",
    "Pclass2 = train_dt[train_dt['Pclass']==2]['Embarked'].value_counts()\n",
    "Pclass3 = train_dt[train_dt['Pclass']==3]['Embarked'].value_counts()\n",
    " \n",
    "fig, ax = plt.subplots(figsize=(5,7))\n",
    "df = pd.DataFrame([Pclass1, Pclass2, Pclass3])\n",
    "df.index = ['1st class','2nd class','3rd class']\n",
    "df.plot(kind='bar', stacked=True, ax=ax)\n",
    " \n",
    "# xlabel 회전\n",
    "plt.xticks(rotation=45)\n",
    " \n",
    "plt.show()"
   ]
  },
  {
   "cell_type": "code",
   "execution_count": null,
   "metadata": {},
   "outputs": [],
   "source": [
    "fig, ax = plt.subplots(1,2,figsize=(10,6))\n",
    " \n",
    "sns.countplot(data=train_dt, x='SibSp', hue='Embarked', ax=ax[0])\n",
    "sns.countplot(data=train_dt, x='Parch', hue='Embarked', ax=ax[1])\n",
    " \n",
    "# 범례 위치조정\n",
    "ax[0].legend(loc='upper right')\n",
    "ax[1].legend(loc='upper right')\n",
    " \n",
    "plt.show()"
   ]
  },
  {
   "cell_type": "code",
   "execution_count": null,
   "metadata": {},
   "outputs": [],
   "source": [
    "fig, ax = plt.subplots(1,2,figsize=(10,6))\n",
    " \n",
    "sns.countplot(data=train_dt, x='SibSp', hue='Pclass', ax=ax[0])\n",
    "sns.countplot(data=train_dt, x='Parch', hue='Pclass', ax=ax[1])\n",
    " \n",
    "# 범례 위치조정\n",
    "ax[0].legend(loc='upper right')\n",
    "ax[1].legend(loc='upper right')\n",
    " \n",
    "plt.show()"
   ]
  },
  {
   "cell_type": "code",
   "execution_count": null,
   "metadata": {},
   "outputs": [],
   "source": [
    "fig, ax = plt.subplots(figsize=(10,6))\n",
    " \n",
    "# 분포확인\n",
    "sns.histplot(train_dt['Fare'], bins=25, kde=True, ax=ax)\n",
    " \n",
    "plt.show()"
   ]
  },
  {
   "cell_type": "code",
   "execution_count": null,
   "metadata": {},
   "outputs": [],
   "source": [
    "fig, ax = plt.subplots(figsize=(8,6))\n",
    " \n",
    "# 분포 확인\n",
    "sns.kdeplot(train_dt[train_dt['Survived']==1]['Fare'], ax=ax)\n",
    "sns.kdeplot(train_dt[train_dt['Survived']==0]['Fare'], ax=ax)\n",
    " \n",
    "# 가장 높은 가격까지 범위 확대\n",
    "ax.set(xlim=(0, train_dt['Fare'].max()))\n",
    "ax.legend(['생존', '사망'])\n",
    " \n",
    "plt.show()"
   ]
  },
  {
   "cell_type": "code",
   "execution_count": null,
   "metadata": {},
   "outputs": [],
   "source": [
    "train_dt['Ticket'].unique()"
   ]
  },
  {
   "cell_type": "code",
   "execution_count": null,
   "metadata": {},
   "outputs": [],
   "source": [
    "train_dt['Cabin'].unique()\n"
   ]
  },
  {
   "cell_type": "code",
   "execution_count": null,
   "metadata": {},
   "outputs": [],
   "source": []
  }
 ],
 "metadata": {
  "kernelspec": {
   "display_name": "Python 3",
   "language": "python",
   "name": "python3"
  },
  "language_info": {
   "codemirror_mode": {
    "name": "ipython",
    "version": 3
   },
   "file_extension": ".py",
   "mimetype": "text/x-python",
   "name": "python",
   "nbconvert_exporter": "python",
   "pygments_lexer": "ipython3",
   "version": "3.9.13"
  }
 },
 "nbformat": 4,
 "nbformat_minor": 2
}
