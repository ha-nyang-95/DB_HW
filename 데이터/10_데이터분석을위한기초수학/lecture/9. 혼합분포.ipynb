{
 "cells": [
  {
   "cell_type": "markdown",
   "id": "8bb3420a",
   "metadata": {},
   "source": [
    "\n",
    "혼합분포는 서로 다른 확률분포들을 일정한 가중치로 섞어서 만든 분포\n",
    "전체적으로는 하나의 분포처럼 보이지만 실제로는 여러 개의 분포가 섞여 있는 구조\n",
    "\n",
    "예를 들어,\n",
    "- 60%는 평균 50, 표준편차 5인 정규분포  \n",
    "- 40%는 평균 100, 표준편차 10인 정규분포\n",
    "\n",
    "섞으면 하나의 정규분포로 설명할 수 없는 분포가 생성되며, 이를 **혼합 정규분포 (Gaussian Mixture Distribution)** 라 함\n"
   ]
  },
  {
   "cell_type": "code",
   "execution_count": null,
   "id": "b7ede15c",
   "metadata": {},
   "outputs": [],
   "source": [
    "import numpy as np\n",
    "import matplotlib.pyplot as plt\n",
    "plt.rcParams[\"font.family\"] = \"Malgun Gothic\"\n",
    "# 두 개의 정규분포 샘플 생성\n",
    "samples_1 = np.random.normal(50, 5, 600)   # 평균 50, 표준편차 5\n",
    "samples_2 = np.random.normal(100, 10, 400) # 평균 100, 표준편차 10\n",
    "\n",
    "# 혼합 분포 생성\n",
    "mixture = np.concatenate([samples_1, samples_2])\n",
    "\n",
    "# 히스토그램 시각화\n",
    "plt.figure(figsize=(8, 5))\n",
    "plt.hist(mixture, bins=50, density=True, alpha=0.7, color='skyblue')\n",
    "plt.title(\"혼합 정규분포 예시 (60% N(50,5) + 40% N(100,10))\")\n",
    "plt.xlabel(\"값\")\n",
    "plt.ylabel(\"밀도\")\n",
    "plt.grid(True)\n",
    "plt.show()\n"
   ]
  },
  {
   "cell_type": "markdown",
   "id": "be806c32",
   "metadata": {},
   "source": [
    "\n",
    "시각화 결과 해석\n",
    "\n",
    "- 왼쪽 봉우리는 평균 50인 정규분포\n",
    "- 오른쪽 봉우리는 평균 100인 정규분포\n",
    "- 전체는 하나의 분포처럼 보이지만 사실은 두 개가 혼합된 구조\n",
    "\n",
    "여러 그룹의 특성으로 구성되어 있을 때, 혼합분포를 사용"
   ]
  }
 ],
 "metadata": {
  "kernelspec": {
   "display_name": "lecture_code-OR4jHJxs",
   "language": "python",
   "name": "python3"
  },
  "language_info": {
   "codemirror_mode": {
    "name": "ipython",
    "version": 3
   },
   "file_extension": ".py",
   "mimetype": "text/x-python",
   "name": "python",
   "nbconvert_exporter": "python",
   "pygments_lexer": "ipython3",
   "version": "3.9.13"
  }
 },
 "nbformat": 4,
 "nbformat_minor": 5
}
